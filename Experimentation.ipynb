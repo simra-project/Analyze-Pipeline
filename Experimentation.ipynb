{
 "cells": [
  {
   "cell_type": "markdown",
   "metadata": {},
   "source": [
    "**Testing directory operations**"
   ]
  },
  {
   "cell_type": "code",
   "execution_count": null,
   "metadata": {},
   "outputs": [],
   "source": [
    "import os"
   ]
  },
  {
   "cell_type": "code",
   "execution_count": null,
   "metadata": {},
   "outputs": [],
   "source": [
    "cwd = os.getcwd()"
   ]
  },
  {
   "cell_type": "code",
   "execution_count": null,
   "metadata": {},
   "outputs": [],
   "source": [
    "cwd_parts = cwd.split(\"/\")"
   ]
  },
  {
   "cell_type": "code",
   "execution_count": null,
   "metadata": {},
   "outputs": [],
   "source": [
    "cwd_parts"
   ]
  },
  {
   "cell_type": "code",
   "execution_count": null,
   "metadata": {},
   "outputs": [],
   "source": [
    "cwd_parts[len(cwd_parts)-1]"
   ]
  },
  {
   "cell_type": "markdown",
   "metadata": {},
   "source": [
    "**Testing df index operations**"
   ]
  },
  {
   "cell_type": "markdown",
   "metadata": {},
   "source": [
    "06/01/2021 context of these df operations:\n",
    "\n",
    "* Manual remerging of segments shall be enabled via a CLI (> manualMergeCLIFlow_segs.py).\n",
    "* Manual remerging is done by computing clustering solutions for two different buffer sizes and determining the differences between these solutions; segment clusters are compared based on strings containing the sorted ids of the individual segments contained in them.\n",
    "* Segments are fractions of OSM ways; therefore, they inherit a range of properties from their 'parent' highways. 'id' is one of them. Hence, values in the 'id'-column aren't unique. I thought that would cause a problem later on, as clusters are compared on hash values of the ids contained in them. (Hash values can only be computed for unique values.)\n",
    "* The clustering solution comparison procedure goes like this: **(1)** map ids to lists; **(2)** if two segments end up in the same cluster and hence ar geographically merged and property-wise aggregated, their ids are concatenated; **(3)** in the end, those id lists are sorted (to ensure identical clusters are recognized as such when represented as strings) and converted to string (so they can be put into sets, i.e. hashed); **(4)** then, two data sets that are based on clustering solutions obtained with different values for buffer size can be compared using their respective sets of segment clusters, with each segment cluster (irrespective of its containing a single or multiple segment/s) represented by a string of id/s."
   ]
  },
  {
   "cell_type": "code",
   "execution_count": null,
   "metadata": {},
   "outputs": [],
   "source": [
    "d = {'col1': [1, 2, 7, 4, 5, 6, 2], 'col2': [3, 4, 9, 3, 5, 3, 5]}"
   ]
  },
  {
   "cell_type": "code",
   "execution_count": null,
   "metadata": {},
   "outputs": [],
   "source": [
    "import pandas as pd"
   ]
  },
  {
   "cell_type": "code",
   "execution_count": null,
   "metadata": {},
   "outputs": [],
   "source": [
    "df = pd.DataFrame(data=d)"
   ]
  },
  {
   "cell_type": "code",
   "execution_count": null,
   "metadata": {},
   "outputs": [],
   "source": [
    "df"
   ]
  },
  {
   "cell_type": "code",
   "execution_count": null,
   "metadata": {},
   "outputs": [],
   "source": [
    "df.index"
   ]
  },
  {
   "cell_type": "code",
   "execution_count": null,
   "metadata": {},
   "outputs": [],
   "source": [
    "df['list_ind'] = df.index.map(lambda x: [x])"
   ]
  },
  {
   "cell_type": "code",
   "execution_count": null,
   "metadata": {},
   "outputs": [],
   "source": [
    "df"
   ]
  },
  {
   "cell_type": "markdown",
   "metadata": {},
   "source": [
    "**Why aren't some segments merged when they should be?**"
   ]
  },
  {
   "cell_type": "markdown",
   "metadata": {},
   "source": [
    "09/02/2021 Debugging - summary.\n",
    "\n",
    "Problem: Particularly in Stuttgart, not all segments that should be merged(i.e., if two segments overlap in a location where there's no junction, they should be merged in this location to avoid having odd breaks in street segments) are merged.\n",
    "\n",
    "What could cause this?\n",
    "1. The geospatial overlap isn't detected (unlikely)\n",
    "2. A junction is incorrectly assumed to be located in the segments' overlap.\n",
    "3. The neighbour_param (number of rows that should be considered above and below each data point when checking for neighbouring segments) is too small.\n",
    "4. Some logical criteria are either flawed or not implemented correctly."
   ]
  },
  {
   "cell_type": "markdown",
   "metadata": {},
   "source": [
    "***(1) Checking if geospatial overlap is detected***"
   ]
  },
  {
   "cell_type": "code",
   "execution_count": null,
   "metadata": {},
   "outputs": [],
   "source": [
    "import shapely\n",
    "from shapely.geometry.polygon import Polygon\n",
    "import geopandas as gpd\n",
    "import folium"
   ]
  },
  {
   "cell_type": "markdown",
   "metadata": {},
   "source": [
    "EXHIBIT 1: Cannstatter Str."
   ]
  },
  {
   "cell_type": "code",
   "execution_count": null,
   "metadata": {},
   "outputs": [],
   "source": [
    "p1 = Polygon(zip([48.78901338983428, 48.78886814152739, 48.78877049992553, 48.78906349638634, 48.78905966057722, 48.78914987672392, 48.78919690583257, 48.78916972836784, 48.789093624606906, 48.78939944823923, 48.7894017882983, 48.78942689416001, 48.789474610295606, 48.7897707467031, 48.790328666069314, 48.790434461038586, 48.79017599748566, 48.78986868836214, 48.78922872316659, 48.78923069647896, 48.78919671456495, 48.789173606310015, 48.78916170119815, 48.78901338983428],[9.191734582980951, 9.191548775617719, 9.191647953182393, 9.191993709262423, 9.191998275769556, 9.19209908446235, 9.19216928314215, 9.192150933625328, 9.192270279054602, 9.19247676345146, 9.192475103920387, 9.192512578548284, 9.1924619459685, 9.192792852632342, 9.193696611191871, 9.193609584208584, 9.193158177295256, 9.192694009515112, 9.19197876279125, 9.19197655855987, 9.191938718974587, 9.19189096683244, 9.191899730844632, 9.191734582980951]))"
   ]
  },
  {
   "cell_type": "code",
   "execution_count": null,
   "metadata": {},
   "outputs": [],
   "source": [
    "p2 = Polygon(zip([48.794497702542316, 48.79259004665616, 48.79037350721767, 48.79026889839811, 48.79248615290849, 48.792841935479736, 48.79246156577028, 48.792332246513595, 48.79222812727993, 48.79234465363009, 48.79234378184505, 48.7926453788676, 48.79407010244168, 48.79429176598952, 48.79467434863853, 48.794700534648655, 48.79471158899031, 48.79471684439578, 48.794765430308814, 48.79481115324505, 48.79536532032411, 48.795371749744334, 48.795567361737305, 48.795561021629666, 48.79574835267022, 48.795859478661654, 48.79572020390558, 48.795721502720475, 48.79559606939611, 48.79544192354787, 48.795439234317854, 48.795390153937504, 48.794889052621116, 48.79468606856374, 48.79468698792446, 48.79468135554041, 48.79469059058135, 48.79465600090749, 48.79463201297187, 48.794631095047336, 48.794497702542316],[9.200098633305618, 9.197230751469688, 9.193505825520955, 9.19359487156822, 9.197320974040798, 9.197867823070421, 9.197306933977416, 9.197096678761154, 9.197186530829585, 9.197375986838134, 9.197376761522994, 9.19784627348296, 9.199922645184802, 9.20031154061775, 9.201053385871042, 9.201131022779395, 9.201125596616269, 9.201135787087821, 9.201099167925507, 9.201076724245153, 9.202321351487102, 9.202317473570055, 9.202817593266646, 9.202818556034984, 9.20324872881619, 9.203172324899375, 9.20285250557114, 9.202851571588427, 9.202582929361528, 9.20213726573322, 9.202138732139126, 9.201999778477635, 9.200855190103246, 9.200455246941896, 9.200454526939676, 9.200443936953262, 9.200433414544051, 9.200396004094689, 9.200348740231062, 9.200349437371056, 9.200098633305618]))"
   ]
  },
  {
   "cell_type": "code",
   "execution_count": null,
   "metadata": {},
   "outputs": [],
   "source": [
    "myMap = folium.Map(location=[48.7825,9.1831], zoom_start=15, tiles='cartodbpositron', prefer_canvas=True)"
   ]
  },
  {
   "cell_type": "code",
   "execution_count": null,
   "metadata": {},
   "outputs": [],
   "source": [
    "myMap"
   ]
  },
  {
   "cell_type": "code",
   "execution_count": null,
   "metadata": {},
   "outputs": [],
   "source": [
    "def plotPoly(poly, mmaapp):\n",
    "    \n",
    "    lats, lons = poly.exterior.coords.xy\n",
    "            \n",
    "    poly_swapped = Polygon(zip(lons, lats))\n",
    "            \n",
    "    poly_geoDf = gpd.GeoDataFrame(index=[0], crs=\"EPSG:4326\", geometry=[poly_swapped])\n",
    "        \n",
    "    folium.GeoJson(poly_geoDf, style_function=lambda x: {'fillColor': '#ff1493', 'lineColor': '#F5FFFA'}).add_to(mmaapp)"
   ]
  },
  {
   "cell_type": "code",
   "execution_count": null,
   "metadata": {},
   "outputs": [],
   "source": [
    "plotPoly(p1, myMap)"
   ]
  },
  {
   "cell_type": "code",
   "execution_count": null,
   "metadata": {},
   "outputs": [],
   "source": [
    "plotPoly(p2, myMap)"
   ]
  },
  {
   "cell_type": "code",
   "execution_count": null,
   "metadata": {},
   "outputs": [],
   "source": [
    "p1.intersects(p2)"
   ]
  },
  {
   "cell_type": "markdown",
   "metadata": {},
   "source": [
    "EXHIBIT 2: Planckstr."
   ]
  },
  {
   "cell_type": "code",
   "execution_count": null,
   "metadata": {},
   "outputs": [],
   "source": [
    "planck1 = Polygon(zip([48.77064220614648, 48.77027902282031, 48.770216964544325, 48.77113233850344, 48.77119235529778, 48.77064220614648],[9.196586155856163, 9.196367388998445, 9.196471711010851, 9.197003618675843, 9.196898098011804, 9.196586155856163]))"
   ]
  },
  {
   "cell_type": "code",
   "execution_count": null,
   "metadata": {},
   "outputs": [],
   "source": [
    "planck2 = Polygon(zip([48.77468928993937, 48.774268919442015, 48.77360000157447, 48.773511553093236, 48.774418340546156, 48.7748303604466, 48.774876706782905, 48.77468928993937],[9.20048566238255, 9.19998872394114, 9.198684661553976, 9.198762937210928, 9.200424985845693, 9.200660633352422, 9.200548999837249, 9.20048566238255]))"
   ]
  },
  {
   "cell_type": "code",
   "execution_count": null,
   "metadata": {},
   "outputs": [],
   "source": [
    "planck3 = Polygon(zip([48.77219820144769, 48.77111066268884, 48.771046967436426, 48.77235547948136, 48.772419801472786, 48.77219820144769],[9.197564801529339, 9.19684877415754, 9.196952073860398, 9.197812897853167, 9.197710004500362, 9.197564801529339]))"
   ]
  },
  {
   "cell_type": "code",
   "execution_count": null,
   "metadata": {},
   "outputs": [],
   "source": [
    "planck4 = Polygon(zip([48.77323221837213, 48.77312376272209, 48.77324130058953, 48.773311337288874, 48.77323221837213],[9.198341004462575, 9.198409381464053, 9.198502372117122, 9.198403599715435, 9.198341004462575]))"
   ]
  },
  {
   "cell_type": "code",
   "execution_count": null,
   "metadata": {},
   "outputs": [],
   "source": [
    "planck5 = Polygon(zip([48.77624773684407, 48.77563090211576, 48.775221393399406, 48.774784163788624, 48.77473711972361, 48.775147298335035, 48.77555304765636, 48.776323494047574, 48.77695086657948, 48.77695426476902, 48.777344100084086, 48.77742419372668, 48.77719998370119, 48.77700097491153, 48.776867070179186, 48.776411936668836, 48.77641318198939, 48.77638864067995, 48.776351730199316, 48.776349677912805, 48.77624773684407],[9.201738596798606, 9.201309339972696, 9.200742273975205, 9.200517248829359, 9.200628642955298, 9.200837846939482, 9.201401186724622, 9.202011424619691, 9.202824892640852, 9.202821576063716, 9.203292542175523, 9.203203240286982, 9.20295296228295, 9.20269429870298, 9.202512742932123, 9.201931414447523, 9.20193005985061, 9.201901659174382, 9.201854514516201, 9.20185656912174, 9.201738596798606]))"
   ]
  },
  {
   "cell_type": "code",
   "execution_count": null,
   "metadata": {},
   "outputs": [],
   "source": [
    "planck6 = Polygon(zip([48.77264564605393, 48.77234210924578, 48.772273434166856, 48.77296762935576, 48.772967831705195, 48.77317457837869, 48.773480092154735, 48.77357273526821, 48.77365588184199, 48.773573402081794, 48.77357542161313, 48.77345969763818, 48.77327026672514, 48.773270598350784, 48.77325911599957, 48.77323603723039, 48.77323532684282, 48.77299865403288, 48.77264564605393],[9.19788486893517, 9.197655255036794, 9.197755080776355, 9.198290286359532, 9.198289998787589, 9.198449334639406, 9.198732510231588, 9.198848514543, 9.19876282292163, 9.198659544902629, 9.198657276407232, 9.198529474562664, 9.19837105500656, 9.198370578971865, 9.198361729744029, 9.198342429154119, 9.198343395897226, 9.19816099670227, 9.19788486893517]))"
   ]
  },
  {
   "cell_type": "code",
   "execution_count": null,
   "metadata": {},
   "outputs": [],
   "source": [
    "def plotPoly2(poly, poly_id, mmaapp):\n",
    "    \n",
    "    lats, lons = poly.exterior.coords.xy\n",
    "            \n",
    "    poly_swapped = Polygon(zip(lons, lats))\n",
    "            \n",
    "    poly_geoDf = gpd.GeoDataFrame(index=[0], crs=\"EPSG:4326\", geometry=[poly_swapped])\n",
    "        \n",
    "    folium.GeoJson(poly_geoDf, style_function=lambda x: {'fillColor': '#ff1493', 'lineColor': '#F5FFFA'}, tooltip=f\"Id: {poly_id}\").add_to(mmaapp)"
   ]
  },
  {
   "cell_type": "code",
   "execution_count": null,
   "metadata": {},
   "outputs": [],
   "source": [
    "for poly, poly_id in [(planck1,1), (planck2,2), (planck3,3), (planck4,4), (planck5,5), (planck6,6)]:\n",
    "    \n",
    "    plotPoly2(poly, poly_id, myMap)"
   ]
  },
  {
   "cell_type": "code",
   "execution_count": null,
   "metadata": {},
   "outputs": [],
   "source": [
    "myMap"
   ]
  },
  {
   "cell_type": "code",
   "execution_count": null,
   "metadata": {},
   "outputs": [],
   "source": [
    "planck_d = {'id': [1, 2, 3, 4, 5, 6], 'geometry': [planck1, planck2, planck3, planck4, planck5, planck6]}"
   ]
  },
  {
   "cell_type": "code",
   "execution_count": null,
   "metadata": {},
   "outputs": [],
   "source": [
    "planck_df = pd.DataFrame(data=planck_d)"
   ]
  },
  {
   "cell_type": "code",
   "execution_count": null,
   "metadata": {},
   "outputs": [],
   "source": [
    "planck_df"
   ]
  },
  {
   "cell_type": "code",
   "execution_count": null,
   "metadata": {},
   "outputs": [],
   "source": [
    "planck_df['index'] = planck_df.index"
   ]
  },
  {
   "cell_type": "code",
   "execution_count": null,
   "metadata": {},
   "outputs": [],
   "source": [
    "planck_df"
   ]
  },
  {
   "cell_type": "markdown",
   "metadata": {},
   "source": [
    "Read data set for Stuttgart containing all junctions (large and small)"
   ]
  },
  {
   "cell_type": "code",
   "execution_count": null,
   "metadata": {},
   "outputs": [],
   "source": [
    "import os\n",
    "import pandas as pd\n",
    "from geopandas import GeoSeries\n",
    "from shapely.geometry import Point\n",
    "from itertools import starmap"
   ]
  },
  {
   "cell_type": "code",
   "execution_count": null,
   "metadata": {},
   "outputs": [],
   "source": [
    "junction_path = os.path.join(\"junctions\", \"stuttgart_junctions_for_segs.csv\")"
   ]
  },
  {
   "cell_type": "code",
   "execution_count": null,
   "metadata": {},
   "outputs": [],
   "source": [
    "junction_data = pd.read_csv(junction_path)"
   ]
  },
  {
   "cell_type": "code",
   "execution_count": null,
   "metadata": {},
   "outputs": [],
   "source": [
    "junction_data"
   ]
  },
  {
   "cell_type": "code",
   "execution_count": null,
   "metadata": {},
   "outputs": [],
   "source": [
    "junctionlats = junction_data.lat.values\n",
    "junctionlons = junction_data.lon.values\n",
    "junctionpoints = GeoSeries(map(Point, zip(junctionlats, junctionlons)))"
   ]
  },
  {
   "cell_type": "code",
   "execution_count": null,
   "metadata": {},
   "outputs": [],
   "source": [
    "def findNeighbours(segs, junctionpoints):\n",
    "\n",
    "    # ~~~~~~~~~~~~~~~~~~~~~~~~~~~~~~~~~~~~~~~~~~~~~~~~~~~~~~~~~~~~~~~~~~~~~~~~~~~~~~~~~~~~~~~~~~~~~~~~~~~~~~~~~~~~~~\n",
    "    # Define some inner functions we'll need for determining the segments' neighbours.\n",
    "\n",
    "    ## a) isIntersectionValid: as a neighbouring segment is defined as a segment whose polygon a segments' polygon \n",
    "    ##                         intersects with WITHOUT a junction being contained in that intersection, this function\n",
    "    ##                         checks for junctions in intersections.\n",
    "\n",
    "    def isIntersectionValid(polyOne, outerInd, polyTwo, innerInd):\n",
    "\n",
    "        if polyOne == polyTwo:\n",
    "            \n",
    "            return False\n",
    "        \n",
    "        intersection = polyOne.intersection(polyTwo)\n",
    "\n",
    "        junctions_in_intersection = junctionpoints[lambda x: x.within(intersection)]\n",
    "        \n",
    "        if junctions_in_intersection.empty:\n",
    "                                \n",
    "            return True\n",
    "                                \n",
    "        else:\n",
    "    \n",
    "            print(f\"Not merging because of junctions in segment overlap: {junctions_in_intersection}\")\n",
    "\n",
    "            return False\n",
    "\n",
    "    ## b) getNeighbours: unsurprisingly, this function assigns each segment its neighbours (definition of 'neighbour'\n",
    "    ##                   in this context: see above)\n",
    "\n",
    "    def getNeighbours(outerInd, outerPoly):\n",
    "        \n",
    "        neighbours = []\n",
    "        \n",
    "        # lower = max(outerInd-neighbourParam, 0)\n",
    "\n",
    "        lower = 0\n",
    "        \n",
    "        # upper = min(outerInd+neighbourParam, len(unfoldedOddballs)-1)\n",
    "\n",
    "        upper = len(segs)-1\n",
    "        \n",
    "        # Use buffer trick if polygon is invalid\n",
    "        # https://stackoverflow.com/questions/13062334/polygon-intersection-error-in-shapely-shapely-geos-topologicalerror-the-opera\n",
    "        \n",
    "        if not(outerPoly.is_valid):\n",
    "            \n",
    "            outerPoly = outerPoly.buffer(0)\n",
    "        \n",
    "        for i in range(lower, upper):\n",
    "        \n",
    "            innerID = segs.at[i,'id']\n",
    "            \n",
    "            innerPoly = segs.at[i,'geometry']\n",
    "            \n",
    "            # Use buffer trick if polygon is invalid\n",
    "            \n",
    "            if not(innerPoly.is_valid):\n",
    "            \n",
    "                innerPoly = innerPoly.buffer(0)\n",
    "                        \n",
    "            if outerPoly.intersects(innerPoly): \n",
    "                    \n",
    "                validIntersection = isIntersectionValid(outerPoly, outerInd, innerPoly, i)\n",
    "\n",
    "                if validIntersection:\n",
    "                        \n",
    "                    neighbours.append(innerID)\n",
    "                        \n",
    "        return neighbours\n",
    "\n",
    "    # ~~~~~~~~~~~~~~~~~~~~~~~~~~~~~~~~~~~~~~~~~~~~~~~~~~~~~~~~~~~~~~~~~~~~~~~~~~~~~~~~~~~~~~~~~~~~~~~~~~~~~~~~~~~~~~\n",
    "\n",
    "    segs['neighbours'] = [x for x in starmap(getNeighbours, list(zip(segs['index'],segs['geometry'])))]\n",
    "\n",
    "    return segs"
   ]
  },
  {
   "cell_type": "code",
   "execution_count": null,
   "metadata": {},
   "outputs": [],
   "source": [
    "findNeighbours(planck_df, junctionpoints)"
   ]
  },
  {
   "cell_type": "code",
   "execution_count": null,
   "metadata": {},
   "outputs": [],
   "source": [
    "planck_df"
   ]
  },
  {
   "cell_type": "markdown",
   "metadata": {},
   "source": [
    "***(2) Checking if a junction is incorrectly assumed to lie in the two segments' intersection***"
   ]
  },
  {
   "cell_type": "code",
   "execution_count": null,
   "metadata": {},
   "outputs": [],
   "source": [
    "intersection = p1.intersection(p2)"
   ]
  },
  {
   "cell_type": "code",
   "execution_count": null,
   "metadata": {},
   "outputs": [],
   "source": [
    "junctions_in_intersection = junctionpoints[lambda x: x.within(intersection)]"
   ]
  },
  {
   "cell_type": "code",
   "execution_count": null,
   "metadata": {},
   "outputs": [],
   "source": [
    "junctions_in_intersection"
   ]
  },
  {
   "cell_type": "code",
   "execution_count": null,
   "metadata": {},
   "outputs": [],
   "source": [
    "junctions_in_intersection.empty"
   ]
  },
  {
   "cell_type": "markdown",
   "metadata": {},
   "source": [
    "No junctions discovered in this intersection, so that can't be it."
   ]
  },
  {
   "cell_type": "markdown",
   "metadata": {},
   "source": [
    "***(3) The neighbour_param (number of rows that should be considered above and below each data point when checking for neighbouring segments) is too small.***"
   ]
  },
  {
   "cell_type": "markdown",
   "metadata": {},
   "source": [
    "Testing by removing the neighbour_param, i.e. searching the entire data frame for potential neighbours."
   ]
  },
  {
   "cell_type": "markdown",
   "metadata": {},
   "source": [
    "---------------------------------------------------------------------------------------------------------------------"
   ]
  },
  {
   "cell_type": "markdown",
   "metadata": {},
   "source": [
    "Testing a function for path concatenation relative to the location of the script currently being executed."
   ]
  },
  {
   "cell_type": "code",
   "execution_count": null,
   "metadata": {},
   "outputs": [],
   "source": [
    "def getSubDirPath (file_, subdir1, subdir2):\n",
    "\n",
    "    # Concatenate path using os library so system can tell which part of the\n",
    "    # path is a directory and which is a file name.\n",
    "\n",
    "    curr_dir = os.path.abspath('')\n",
    "\n",
    "    file_path = os.path.join(curr_dir, subdir1, subdir2, file_)\n",
    "\n",
    "    return file_path"
   ]
  },
  {
   "cell_type": "code",
   "execution_count": null,
   "metadata": {},
   "outputs": [],
   "source": [
    "file_path = getSubDirPath(\"hannover_segments_buffer=1\", \"segments\", \"pickled_data\")"
   ]
  },
  {
   "cell_type": "code",
   "execution_count": null,
   "metadata": {},
   "outputs": [],
   "source": [
    "file_path"
   ]
  },
  {
   "cell_type": "code",
   "execution_count": null,
   "metadata": {},
   "outputs": [],
   "source": [
    "import pandas as pd"
   ]
  },
  {
   "cell_type": "code",
   "execution_count": null,
   "metadata": {},
   "outputs": [],
   "source": [
    "hannover_segments = pd.read_pickle(file_path)"
   ]
  },
  {
   "cell_type": "code",
   "execution_count": null,
   "metadata": {},
   "outputs": [],
   "source": [
    "hannover_segments['id']"
   ]
  },
  {
   "cell_type": "markdown",
   "metadata": {},
   "source": [
    "### Testing multiprocessing etc - optimization of neighbour search (26./27.04.)"
   ]
  },
  {
   "cell_type": "markdown",
   "metadata": {},
   "source": [
    "(1) Load oddball pickle for Wedding, our test data set"
   ]
  },
  {
   "cell_type": "code",
   "execution_count": null,
   "metadata": {},
   "outputs": [],
   "source": [
    "import pandas as pd"
   ]
  },
  {
   "cell_type": "code",
   "execution_count": null,
   "metadata": {},
   "outputs": [],
   "source": [
    "import os"
   ]
  },
  {
   "cell_type": "code",
   "execution_count": null,
   "metadata": {},
   "outputs": [],
   "source": [
    "import sys"
   ]
  },
  {
   "cell_type": "code",
   "execution_count": null,
   "metadata": {},
   "outputs": [],
   "source": [
    "from multiprocessing import set_start_method\n",
    "set_start_method(\"spawn\")"
   ]
  },
  {
   "cell_type": "code",
   "execution_count": null,
   "metadata": {},
   "outputs": [],
   "source": [
    "wedding_oddballs = pd.read_pickle(\"oddball_pickle\")"
   ]
  },
  {
   "cell_type": "code",
   "execution_count": null,
   "metadata": {},
   "outputs": [],
   "source": [
    "region = \"wedding\""
   ]
  },
  {
   "cell_type": "markdown",
   "metadata": {},
   "source": [
    "(2) Read the respective junctions data set"
   ]
  },
  {
   "cell_type": "code",
   "execution_count": null,
   "metadata": {},
   "outputs": [],
   "source": [
    "def getSubDirPath (file_, subdir1, subdir2):\n",
    "\n",
    "    # Concatenate path using os library so system can tell which part of the\n",
    "    # path is a directory and which is a file name.\n",
    "\n",
    "    curr_dir = os.path.abspath('')\n",
    "\n",
    "    file_path = os.path.join(curr_dir, subdir1, subdir2, file_)\n",
    "\n",
    "    return file_path"
   ]
  },
  {
   "cell_type": "code",
   "execution_count": null,
   "metadata": {},
   "outputs": [],
   "source": [
    "subdir_path = getSubDirPath(f\"{region}_junctions_for_segs.csv\", \"junctions\",\"csv_data\")"
   ]
  },
  {
   "cell_type": "code",
   "execution_count": null,
   "metadata": {},
   "outputs": [],
   "source": [
    "subdir_path"
   ]
  },
  {
   "cell_type": "code",
   "execution_count": null,
   "metadata": {},
   "outputs": [],
   "source": [
    "try:\n",
    "    junctionsdf = pd.read_csv(subdir_path)\n",
    "except FileNotFoundError: \n",
    "    print(\"Junctions file wasn't found! Please execute OSM_jcts.py for this region to generate it.\")\n",
    "    sys.exit()"
   ]
  },
  {
   "cell_type": "markdown",
   "metadata": {},
   "source": [
    "Grab the larger junctions (>= 2 larger highways intersecting)"
   ]
  },
  {
   "cell_type": "code",
   "execution_count": null,
   "metadata": {},
   "outputs": [],
   "source": [
    "larger_jcts = junctionsdf[junctionsdf['junction'] == 'large_junction']\n",
    "\n",
    "larger_jctids = larger_jcts['id'].values "
   ]
  },
  {
   "cell_type": "markdown",
   "metadata": {},
   "source": [
    "(3) Functionality for determining whether two segments are neighbours, i.e., they share a node at either end that is not a junction (plainly speaking, there's an odd break where there shouldn't be one)"
   ]
  },
  {
   "cell_type": "code",
   "execution_count": null,
   "metadata": {},
   "outputs": [],
   "source": [
    "def sharedNonJunctionNode(outerNodes, innerNodes):\n",
    "\n",
    "    outerLastNodeIdx = len(outerNodes) - 1\n",
    "\n",
    "    innerLastNodeIdx = len(innerNodes) - 1\n",
    "\n",
    "    # Scenario 1: the first node belonging to the outer segment is not a junction.\n",
    "    #             Check if the inner segment contains this node too (at one of its ends).\n",
    "\n",
    "    if outerNodes[0] not in larger_jctids:\n",
    "\n",
    "        if (innerNodes[0] == outerNodes[0] or innerNodes[innerLastNodeIdx] == outerNodes[0]):\n",
    "\n",
    "            return True\n",
    "\n",
    "    if outerNodes[outerLastNodeIdx] not in larger_jctids:\n",
    "\n",
    "        if (innerNodes[0] == outerNodes[outerLastNodeIdx] or innerNodes[innerLastNodeIdx] == outerNodes[outerLastNodeIdx]):\n",
    "\n",
    "            return True\n",
    "\n",
    "        else:\n",
    "\n",
    "            return False"
   ]
  },
  {
   "cell_type": "code",
   "execution_count": null,
   "metadata": {},
   "outputs": [],
   "source": [
    "def getNeighbours(outerNodes):\n",
    "\n",
    "    neighbours = []\n",
    "\n",
    "    for index, row in wedding_oddballs.iterrows(): \n",
    "\n",
    "        common_nodes = set(outerNodes).intersection(set(row['segment_nodes_ids']))\n",
    "        \n",
    "        no_jcts = [x for x in common_nodes if x not in larger_jctids] # super pythonic list comprehension\n",
    "        \n",
    "        if no_jcts: # using the implicit booleanness of a list is quite pythonic\n",
    "\n",
    "            neighbours.append(index)\n",
    "\n",
    "    return neighbours"
   ]
  },
  {
   "cell_type": "code",
   "execution_count": null,
   "metadata": {},
   "outputs": [],
   "source": [
    "def getNeighbours2(outerNodes):\n",
    "\n",
    "    neighbours = []\n",
    "    \n",
    "    mylambda = lambda x: sharedNonJunctionNode(outerNodes, x)\n",
    "    \n",
    "    target = wedding_oddballs.loc[wedding_oddballs['segment_nodes_ids'].apply(mylambda)]\n",
    "\n",
    "    neighbours = target.index.tolist()\n",
    "    \n",
    "    return neighbours"
   ]
  },
  {
   "cell_type": "code",
   "execution_count": null,
   "metadata": {},
   "outputs": [],
   "source": [
    "wedding_oddballs = wedding_oddballs.dropna(subset=['segment_nodes_ids'])"
   ]
  },
  {
   "cell_type": "code",
   "execution_count": null,
   "metadata": {},
   "outputs": [],
   "source": [
    "import time"
   ]
  },
  {
   "cell_type": "code",
   "execution_count": null,
   "metadata": {},
   "outputs": [],
   "source": [
    "start_time = time.time()\n",
    "wedding_oddballs['neighbours'] = wedding_oddballs['segment_nodes_ids'].map(getNeighbours)\n",
    "print(\"--- %s seconds ---\" % (time.time() - start_time))"
   ]
  },
  {
   "cell_type": "code",
   "execution_count": null,
   "metadata": {},
   "outputs": [],
   "source": [
    "start_time = time.time()\n",
    "wedding_oddballs['neighbours'] = wedding_oddballs['segment_nodes_ids'].map(getNeighbours2)\n",
    "print(\"--- %s seconds ---\" % (time.time() - start_time))"
   ]
  },
  {
   "cell_type": "code",
   "execution_count": null,
   "metadata": {},
   "outputs": [],
   "source": [
    "import pathos\n",
    "import numpy as np"
   ]
  },
  {
   "cell_type": "code",
   "execution_count": null,
   "metadata": {},
   "outputs": [],
   "source": [
    "n_cores = 4 # is this correct?\n",
    "\n",
    "# split the data frame into 4 chunks - what is the return value? A list containing the four chunks?\n",
    "# Yes, it's a list with four elements (the four df chunks).\n",
    "\n",
    "oddballs_split = np.array_split(wedding_oddballs, n_cores)\n",
    "\n",
    "# Map each of the four data set chunks onto the only column we're interested in\n",
    "\n",
    "outer_nodes_chunks = list(map(lambda x : x['segment_nodes_ids'], oddballs_split))\n",
    "\n",
    "# To match up, put four copies of the unfoldedOddballs df into a list:\n",
    "\n",
    "dfs = [wedding_oddballs, wedding_oddballs, wedding_oddballs, wedding_oddballs]\n",
    "\n",
    "_pp = pathos.pools._ProcessPool(n_cores)\n",
    "\n",
    "res = _pp.starmap(getNeighbours, zip(outer_nodes_chunks, dfs))\n",
    "\n",
    "# What is the type of res ??? "
   ]
  },
  {
   "cell_type": "code",
   "execution_count": null,
   "metadata": {},
   "outputs": [],
   "source": [
    "type(outer_nodes_chunks)"
   ]
  },
  {
   "cell_type": "code",
   "execution_count": null,
   "metadata": {},
   "outputs": [],
   "source": [
    "list(zip(outer_nodes_chunks, dfs))"
   ]
  },
  {
   "cell_type": "code",
   "execution_count": null,
   "metadata": {},
   "outputs": [],
   "source": [
    "len(outer_nodes_chunks)"
   ]
  },
  {
   "cell_type": "code",
   "execution_count": null,
   "metadata": {},
   "outputs": [],
   "source": [
    "outer_nodes_chunks[0]"
   ]
  },
  {
   "cell_type": "code",
   "execution_count": null,
   "metadata": {},
   "outputs": [],
   "source": [
    "from multiprocessing import Pool, get_context, Manager\n",
    "import numpy as np\n",
    "\n",
    "with get_context(\"spawn\").Pool(4) as pool:\n",
    "    \n",
    "    mgr = Manager()\n",
    "    ns = mgr.Namespace()\n",
    "    ns.df = wedding_oddballs\n",
    "    \n",
    "    # split the data frame into 4 chunks - what is the return value? A list containing the four chunks?\n",
    "    # Yes, it's a list with four elements (the four df chunks).\n",
    "\n",
    "    oddballs_split = np.array_split(wedding_oddballs, 4)\n",
    "\n",
    "    # Map each of the four data set chunks onto the only column we're interested in\n",
    "\n",
    "    outer_nodes_chunks = list(map(lambda x : x['segment_nodes_ids'], oddballs_split))\n",
    "\n",
    "    ns_arg = [ns, ns, ns, ns]\n",
    "\n",
    "    args = list(zip(outer_nodes_chunks, ns_arg)) #list of args - df is the same object in each tuple\n",
    "\n",
    "    start_time = time.time()\n",
    "    \n",
    "    res = pool.map(getNeighbours, args) #func is some arbitrary function\n",
    "    pool.close()\n",
    "    pool.join()\n",
    "\n",
    "    print(\"--- %s seconds ---\" % (time.time() - start_time))"
   ]
  },
  {
   "cell_type": "markdown",
   "metadata": {},
   "source": [
    "## Edit 28/04: following best practices, let's try to optimize without using parallelism."
   ]
  },
  {
   "cell_type": "markdown",
   "metadata": {},
   "source": [
    "**(1) Import libraries**"
   ]
  },
  {
   "cell_type": "code",
   "execution_count": null,
   "metadata": {},
   "outputs": [],
   "source": [
    "import pandas as pd\n",
    "import os\n",
    "import sys\n",
    "import time\n",
    "import numpy as np"
   ]
  },
  {
   "cell_type": "markdown",
   "metadata": {},
   "source": [
    "**(2) Import data (wedding segments & junctions)**"
   ]
  },
  {
   "cell_type": "code",
   "execution_count": null,
   "metadata": {},
   "outputs": [],
   "source": [
    "wedding_oddballs = pd.read_pickle(\"oddball_pickle\")"
   ]
  },
  {
   "cell_type": "code",
   "execution_count": null,
   "metadata": {},
   "outputs": [],
   "source": [
    "region = \"wedding\""
   ]
  },
  {
   "cell_type": "code",
   "execution_count": null,
   "metadata": {},
   "outputs": [],
   "source": [
    "def getSubDirPath (file_, subdir1, subdir2):\n",
    "\n",
    "    # Concatenate path using os library so system can tell which part of the\n",
    "    # path is a directory and which is a file name.\n",
    "\n",
    "    curr_dir = os.path.abspath('')\n",
    "\n",
    "    file_path = os.path.join(curr_dir, subdir1, subdir2, file_)\n",
    "\n",
    "    return file_path"
   ]
  },
  {
   "cell_type": "code",
   "execution_count": null,
   "metadata": {},
   "outputs": [],
   "source": [
    "subdir_path = getSubDirPath(f\"{region}_junctions_for_segs.csv\", \"junctions\",\"csv_data\")"
   ]
  },
  {
   "cell_type": "code",
   "execution_count": null,
   "metadata": {},
   "outputs": [],
   "source": [
    "try:\n",
    "    junctionsdf = pd.read_csv(subdir_path)\n",
    "except FileNotFoundError: \n",
    "    print(\"Junctions file wasn't found! Please execute OSM_jcts.py for this region to generate it.\")\n",
    "    sys.exit()"
   ]
  },
  {
   "cell_type": "markdown",
   "metadata": {},
   "source": [
    "Grab the larger junctions (>= 2 larger highways intersecting)"
   ]
  },
  {
   "cell_type": "code",
   "execution_count": null,
   "metadata": {},
   "outputs": [],
   "source": [
    "larger_jcts = junctionsdf[junctionsdf['junction'] == 'large_junction']\n",
    "\n",
    "larger_jctids = larger_jcts['id'].values "
   ]
  },
  {
   "cell_type": "markdown",
   "metadata": {},
   "source": [
    "**(3) Functionality for determining whether two segments are neighbours, i.e., they share a node at either end that is not a junction (plainly speaking, there's an odd break where there shouldn't be one)**"
   ]
  },
  {
   "cell_type": "code",
   "execution_count": null,
   "metadata": {},
   "outputs": [],
   "source": [
    "def getNeighbours(outerNodes, outerId):\n",
    "\n",
    "    common_nodes = wedding_oddballs['segment_nodes_ids'].map(lambda innerNodes: set(innerNodes).intersection(set(outerNodes)))\n",
    "    \n",
    "    common_nodes_list = common_nodes.map(lambda x: list(x))\n",
    "    \n",
    "    common_nodes_nojcts = common_nodes_list.map(lambda cns: [x for x in cns if x not in larger_jctids])\n",
    "    \n",
    "    neighbours = [i for i in range(len(common_nodes_nojcts)) if common_nodes_nojcts[i]]\n",
    "    \n",
    "    neighbours_without_self = [x for x in neighbours if x != outerId]\n",
    "\n",
    "    return neighbours_without_self"
   ]
  },
  {
   "cell_type": "code",
   "execution_count": null,
   "metadata": {},
   "outputs": [],
   "source": [
    "from itertools import starmap"
   ]
  },
  {
   "cell_type": "code",
   "execution_count": null,
   "metadata": {},
   "outputs": [],
   "source": [
    "start_time = time.time()\n",
    "wedding_oddballs['neighbours'] = [x for x in starmap(getNeighbours, zip(wedding_oddballs['segment_nodes_ids'], wedding_oddballs.index))]\n",
    "print(\"--- %s seconds ---\" % (time.time() - start_time))"
   ]
  },
  {
   "cell_type": "code",
   "execution_count": null,
   "metadata": {},
   "outputs": [],
   "source": [
    "res"
   ]
  },
  {
   "cell_type": "code",
   "execution_count": null,
   "metadata": {},
   "outputs": [],
   "source": [
    "print(wedding_oddballs['neighbours'])"
   ]
  },
  {
   "cell_type": "code",
   "execution_count": null,
   "metadata": {},
   "outputs": [],
   "source": [
    "type(res[0][0])"
   ]
  },
  {
   "cell_type": "markdown",
   "metadata": {},
   "source": [
    "### Testing df index resetting"
   ]
  },
  {
   "cell_type": "code",
   "execution_count": null,
   "metadata": {},
   "outputs": [],
   "source": [
    "import pandas as pd"
   ]
  },
  {
   "cell_type": "code",
   "execution_count": null,
   "metadata": {},
   "outputs": [],
   "source": [
    "df = pd.DataFrame({'poly_lats': [1, 4, 7, 10],\n",
    "                   'poly_lons': [2012, 2014, 2013, 2014],\n",
    "                   'highwaynames': [55, 40, 84, 31]})"
   ]
  },
  {
   "cell_type": "code",
   "execution_count": null,
   "metadata": {},
   "outputs": [],
   "source": [
    "df.set_index('month', inplace=True)"
   ]
  },
  {
   "cell_type": "code",
   "execution_count": null,
   "metadata": {},
   "outputs": [],
   "source": [
    "df"
   ]
  },
  {
   "cell_type": "code",
   "execution_count": null,
   "metadata": {},
   "outputs": [],
   "source": [
    "df.index"
   ]
  },
  {
   "cell_type": "code",
   "execution_count": null,
   "metadata": {},
   "outputs": [],
   "source": [
    "df.reset_index(inplace = True, drop = False)"
   ]
  },
  {
   "cell_type": "code",
   "execution_count": null,
   "metadata": {},
   "outputs": [],
   "source": [
    "df"
   ]
  },
  {
   "cell_type": "markdown",
   "metadata": {},
   "source": [
    "### Debugging the weirdest error ever"
   ]
  },
  {
   "cell_type": "code",
   "execution_count": null,
   "metadata": {},
   "outputs": [],
   "source": [
    "from shapely.geometry.polygon import Polygon"
   ]
  },
  {
   "cell_type": "code",
   "execution_count": null,
   "metadata": {},
   "outputs": [],
   "source": [
    "import folium"
   ]
  },
  {
   "cell_type": "code",
   "execution_count": null,
   "metadata": {},
   "outputs": [],
   "source": [
    "import geopandas as gpd"
   ]
  },
  {
   "cell_type": "code",
   "execution_count": null,
   "metadata": {},
   "outputs": [],
   "source": [
    "lats_1 = [51.33285120366603, 51.33265043471369, 51.33243619076528, 51.33263695878674, 51.33285120366603]"
   ]
  },
  {
   "cell_type": "code",
   "execution_count": null,
   "metadata": {},
   "outputs": [],
   "source": [
    "lons_1 = [12.371268724808056, 12.370926701682338, 12.371247275311967, 12.371589298228095, 12.371268724808056]"
   ]
  },
  {
   "cell_type": "code",
   "execution_count": null,
   "metadata": {},
   "outputs": [],
   "source": [
    "lats_2 = [51.332555164489754, 51.332493574527625, 51.332334405639976, 51.332170897230306, 51.33209882993941, 51.33216041938109, 51.33231958766371, 51.33248309659383, 51.332555164489754]"
   ]
  },
  {
   "cell_type": "code",
   "execution_count": null,
   "metadata": {},
   "outputs": [],
   "source": [
    "lons_2 = [12.37131869277576, 12.371057651418353, 12.370942617783772, 12.371040975825904, 12.371295107369345, 12.371556146791685, 12.371671182107923, 12.371572826000861, 12.37131869277576]"
   ]
  },
  {
   "cell_type": "code",
   "execution_count": null,
   "metadata": {},
   "outputs": [],
   "source": [
    "myMap = folium.Map(location=[51.3403333, 12.37475], zoom_start=15, tiles='cartodbpositron')"
   ]
  },
  {
   "cell_type": "code",
   "execution_count": null,
   "metadata": {},
   "outputs": [],
   "source": [
    "myMap"
   ]
  },
  {
   "cell_type": "code",
   "execution_count": null,
   "metadata": {},
   "outputs": [],
   "source": [
    "poly_1 = Polygon(zip(lons_1, lats_1))"
   ]
  },
  {
   "cell_type": "code",
   "execution_count": null,
   "metadata": {},
   "outputs": [],
   "source": [
    "style = {'fillColor': '#ff1493', 'lineColor': '#F5FFFA'}"
   ]
  },
  {
   "cell_type": "code",
   "execution_count": null,
   "metadata": {},
   "outputs": [],
   "source": [
    "poly1_geoDf = gpd.GeoDataFrame(index=[0], crs=\"EPSG:4326\", geometry=[poly_1])\n",
    "        \n",
    "folium.GeoJson(poly1_geoDf, style_function=lambda x: style).add_to(myMap)"
   ]
  },
  {
   "cell_type": "code",
   "execution_count": null,
   "metadata": {},
   "outputs": [],
   "source": [
    "poly_2 = Polygon(zip(lons_2, lats_2))"
   ]
  },
  {
   "cell_type": "code",
   "execution_count": null,
   "metadata": {},
   "outputs": [],
   "source": [
    "poly2_geoDf = gpd.GeoDataFrame(index=[0], crs=\"EPSG:4326\", geometry=[poly_2])\n",
    "        \n",
    "folium.GeoJson(poly2_geoDf, style_function=lambda x: style).add_to(myMap)"
   ]
  },
  {
   "cell_type": "code",
   "execution_count": null,
   "metadata": {},
   "outputs": [],
   "source": [
    "def largeIntersection(poly1, poly2):\n",
    "    return poly1.intersects(poly2) and ((poly1.intersection(poly2).area/poly1.area)*100) > 8"
   ]
  },
  {
   "cell_type": "code",
   "execution_count": null,
   "metadata": {},
   "outputs": [],
   "source": [
    "largeIntersection(poly_2,poly_1)"
   ]
  },
  {
   "cell_type": "markdown",
   "metadata": {},
   "source": [
    "Incredibly, neighbour discovery is asymmetrical in cases where polygons are of different sizes!"
   ]
  },
  {
   "cell_type": "markdown",
   "metadata": {},
   "source": [
    "### 21/05 Testing dealing with missing highwaynames"
   ]
  },
  {
   "cell_type": "code",
   "execution_count": 1,
   "metadata": {},
   "outputs": [],
   "source": [
    "import os"
   ]
  },
  {
   "cell_type": "code",
   "execution_count": 2,
   "metadata": {},
   "outputs": [],
   "source": [
    "def getSubDirPath (file_, subdir1, subdir2):\n",
    "\n",
    "    # Concatenate path using os library so system can tell which part of the\n",
    "    # path is a directory and which is a file name.\n",
    "\n",
    "    curr_dir = os.path.abspath('')\n",
    "\n",
    "    file_path = os.path.join(curr_dir, subdir1, subdir2, file_)\n",
    "\n",
    "    return file_path"
   ]
  },
  {
   "cell_type": "code",
   "execution_count": 3,
   "metadata": {},
   "outputs": [],
   "source": [
    "subdir_path = getSubDirPath(\"bern_segments\", \"segments\",\"pickled_data\")"
   ]
  },
  {
   "cell_type": "code",
   "execution_count": 4,
   "metadata": {},
   "outputs": [
    {
     "data": {
      "text/plain": [
       "'/Users/theresatratzmuller/Library/Mobile Documents/com~apple~CloudDocs/Code/SimRa/Analyze_Pipeline/PyPipeline_/segments/pickled_data/bern_segments'"
      ]
     },
     "execution_count": 4,
     "metadata": {},
     "output_type": "execute_result"
    }
   ],
   "source": [
    "subdir_path"
   ]
  },
  {
   "cell_type": "code",
   "execution_count": 5,
   "metadata": {},
   "outputs": [],
   "source": [
    "import pandas as pd"
   ]
  },
  {
   "cell_type": "code",
   "execution_count": 6,
   "metadata": {},
   "outputs": [],
   "source": [
    "bern_segments = pd.read_pickle(subdir_path)"
   ]
  },
  {
   "cell_type": "code",
   "execution_count": 7,
   "metadata": {},
   "outputs": [
    {
     "data": {
      "text/html": [
       "<div>\n",
       "<style scoped>\n",
       "    .dataframe tbody tr th:only-of-type {\n",
       "        vertical-align: middle;\n",
       "    }\n",
       "\n",
       "    .dataframe tbody tr th {\n",
       "        vertical-align: top;\n",
       "    }\n",
       "\n",
       "    .dataframe thead th {\n",
       "        text-align: right;\n",
       "    }\n",
       "</style>\n",
       "<table border=\"1\" class=\"dataframe\">\n",
       "  <thead>\n",
       "    <tr style=\"text-align: right;\">\n",
       "      <th></th>\n",
       "      <th>neighbour_cluster</th>\n",
       "      <th>id</th>\n",
       "      <th>highwayname</th>\n",
       "      <th>highwaytype</th>\n",
       "      <th>highwaylanes</th>\n",
       "      <th>lanes:backward</th>\n",
       "      <th>segment_nodes_ids</th>\n",
       "      <th>seg_length</th>\n",
       "      <th>poly_geometry</th>\n",
       "      <th>poly_vertices_lats</th>\n",
       "      <th>poly_vertices_lons</th>\n",
       "    </tr>\n",
       "  </thead>\n",
       "  <tbody>\n",
       "    <tr>\n",
       "      <th>0</th>\n",
       "      <td>0.0</td>\n",
       "      <td>[1, 313, 958, 1490, 1901, 3229, 3238, 3239, 32...</td>\n",
       "      <td>Schützenmattstrasse, Lorrainebrücke, Lorraineb...</td>\n",
       "      <td>primary, secondary, secondary, primary, second...</td>\n",
       "      <td>2, 4, 3, 2, 2, unknown, 1, 1, 1, 1, 1, 1</td>\n",
       "      <td>unknown, 2, 1, unknown, 1, unknown, unknown, u...</td>\n",
       "      <td>[338958784, 3811147154, 2049637628, 5564049529...</td>\n",
       "      <td>254.330367</td>\n",
       "      <td>POLYGON ((46.95337456559583 7.44015896270303, ...</td>\n",
       "      <td>[46.95337456559583, 46.95321863592993, 46.9531...</td>\n",
       "      <td>[7.4401589627030305, 7.4396840953471095, 7.439...</td>\n",
       "    </tr>\n",
       "    <tr>\n",
       "      <th>1</th>\n",
       "      <td>0.0</td>\n",
       "      <td>[1, 313, 958, 1490, 1901, 3229, 3238, 3239, 32...</td>\n",
       "      <td>Schützenmattstrasse, Lorrainebrücke, Lorraineb...</td>\n",
       "      <td>primary, secondary, secondary, primary, second...</td>\n",
       "      <td>2, 4, 3, 2, 2, unknown, 1, 1, 1, 1, 1, 1</td>\n",
       "      <td>unknown, 2, 1, unknown, 1, unknown, unknown, u...</td>\n",
       "      <td>[338958784, 3811147154, 2049637628, 5564049529...</td>\n",
       "      <td>254.330367</td>\n",
       "      <td>POLYGON ((46.95337456559583 7.44015896270303, ...</td>\n",
       "      <td>[46.95337456559583, 46.95321863592993, 46.9531...</td>\n",
       "      <td>[7.4401589627030305, 7.4396840953471095, 7.439...</td>\n",
       "    </tr>\n",
       "    <tr>\n",
       "      <th>2</th>\n",
       "      <td>1.0</td>\n",
       "      <td>[10, 310, 311, 522, 1697, 3172, 3173, 3174, 31...</td>\n",
       "      <td>Marzilistrasse, Sulgeneckstrasse, Sandrainstra...</td>\n",
       "      <td>residential, residential, residential, residen...</td>\n",
       "      <td>2, 1, 2, unknown, 2, 1, 1, 1, 1, 1, 1, 1, 1, 1...</td>\n",
       "      <td>unknown, unknown, unknown, unknown, unknown, u...</td>\n",
       "      <td>[564770755, 4663118624, 2860577434, 8563870939...</td>\n",
       "      <td>90.306859</td>\n",
       "      <td>POLYGON ((46.94083638700465 7.440002127689091,...</td>\n",
       "      <td>[46.94083638700465, 46.94082081543674, 46.9407...</td>\n",
       "      <td>[7.440002127689091, 7.439466095667876, 7.43947...</td>\n",
       "    </tr>\n",
       "    <tr>\n",
       "      <th>3</th>\n",
       "      <td>2.0</td>\n",
       "      <td>[11, 1708]</td>\n",
       "      <td>Marzilistrasse, Marzilistrasse</td>\n",
       "      <td>residential, residential</td>\n",
       "      <td>2, 1</td>\n",
       "      <td>unknown, unknown</td>\n",
       "      <td>[564770865, 1015722344, 5071143424, 5071143424...</td>\n",
       "      <td>42.064801</td>\n",
       "      <td>POLYGON ((46.94207754841979 7.442953375904438,...</td>\n",
       "      <td>[46.94207754841979, 46.9422683857725, 46.94226...</td>\n",
       "      <td>[7.4429533759044375, 7.443111569905079, 7.4431...</td>\n",
       "    </tr>\n",
       "    <tr>\n",
       "      <th>4</th>\n",
       "      <td>3.0</td>\n",
       "      <td>[12, 608, 1118]</td>\n",
       "      <td>Wasserwerkgasse, Wasserwerkgasse, Wasserwerkgasse</td>\n",
       "      <td>residential, residential, residential</td>\n",
       "      <td>unknown, unknown, unknown</td>\n",
       "      <td>unknown, unknown, unknown</td>\n",
       "      <td>[3920905, 1311078013, 3920905, 2896744316, 625...</td>\n",
       "      <td>12.908663</td>\n",
       "      <td>POLYGON ((46.94821498446817 7.457734462788174,...</td>\n",
       "      <td>[46.94821498446817, 46.94826636884634, 46.9481...</td>\n",
       "      <td>[7.457734462788174, 7.457631067304516, 7.45758...</td>\n",
       "    </tr>\n",
       "    <tr>\n",
       "      <th>...</th>\n",
       "      <td>...</td>\n",
       "      <td>...</td>\n",
       "      <td>...</td>\n",
       "      <td>...</td>\n",
       "      <td>...</td>\n",
       "      <td>...</td>\n",
       "      <td>...</td>\n",
       "      <td>...</td>\n",
       "      <td>...</td>\n",
       "      <td>...</td>\n",
       "      <td>...</td>\n",
       "    </tr>\n",
       "    <tr>\n",
       "      <th>2125</th>\n",
       "      <td>2128.0</td>\n",
       "      <td>[3290]</td>\n",
       "      <td>unknown</td>\n",
       "      <td>pedestrian</td>\n",
       "      <td>unknown</td>\n",
       "      <td>unknown</td>\n",
       "      <td>[7788528441, 7788528444]</td>\n",
       "      <td>2.630357</td>\n",
       "      <td>POLYGON ((46.94447194674717 7.449176561304245,...</td>\n",
       "      <td>[46.94447194674717, 46.94436320741938, 46.9443...</td>\n",
       "      <td>[7.449176561304245, 7.449157804115087, 7.44930...</td>\n",
       "    </tr>\n",
       "    <tr>\n",
       "      <th>2126</th>\n",
       "      <td>2129.0</td>\n",
       "      <td>[3291]</td>\n",
       "      <td>unknown</td>\n",
       "      <td>pedestrian</td>\n",
       "      <td>unknown</td>\n",
       "      <td>unknown</td>\n",
       "      <td>[7788528444, 7788528442]</td>\n",
       "      <td>4.953128</td>\n",
       "      <td>POLYGON ((46.94446393619113 7.449112476473884,...</td>\n",
       "      <td>[46.944463936191134, 46.94435513999867, 46.944...</td>\n",
       "      <td>[7.449112476473884, 7.449093917062028, 7.44926...</td>\n",
       "    </tr>\n",
       "    <tr>\n",
       "      <th>2127</th>\n",
       "      <td>2130.0</td>\n",
       "      <td>[3292]</td>\n",
       "      <td>unknown</td>\n",
       "      <td>pedestrian</td>\n",
       "      <td>unknown</td>\n",
       "      <td>unknown</td>\n",
       "      <td>[7788528442, 7788528439]</td>\n",
       "      <td>2.622865</td>\n",
       "      <td>POLYGON ((46.94445974411904 7.449078640241551,...</td>\n",
       "      <td>[46.944459744119044, 46.94435099071409, 46.944...</td>\n",
       "      <td>[7.449078640241551, 7.449059932126568, 7.44920...</td>\n",
       "    </tr>\n",
       "    <tr>\n",
       "      <th>2128</th>\n",
       "      <td>2131.0</td>\n",
       "      <td>[3293]</td>\n",
       "      <td>unknown</td>\n",
       "      <td>cycleway</td>\n",
       "      <td>unknown</td>\n",
       "      <td>unknown</td>\n",
       "      <td>[7842535098, 7842535097]</td>\n",
       "      <td>51.914426</td>\n",
       "      <td>POLYGON ((46.95365931297508 7.423715375049648,...</td>\n",
       "      <td>[46.95365931297508, 46.95367731008164, 46.9532...</td>\n",
       "      <td>[7.423715375049648, 7.423704272948659, 7.42335...</td>\n",
       "    </tr>\n",
       "    <tr>\n",
       "      <th>2129</th>\n",
       "      <td>2132.0</td>\n",
       "      <td>[3294]</td>\n",
       "      <td>unknown</td>\n",
       "      <td>cycleway</td>\n",
       "      <td>unknown</td>\n",
       "      <td>unknown</td>\n",
       "      <td>[7842535097, 6140930661]</td>\n",
       "      <td>9.609277</td>\n",
       "      <td>POLYGON ((46.95361389964501 7.423813620450519,...</td>\n",
       "      <td>[46.95361389964501, 46.953625546944004, 46.953...</td>\n",
       "      <td>[7.4238136204505185, 7.423828147473851, 7.4237...</td>\n",
       "    </tr>\n",
       "  </tbody>\n",
       "</table>\n",
       "<p>2130 rows × 11 columns</p>\n",
       "</div>"
      ],
      "text/plain": [
       "     neighbour_cluster                                                 id  \\\n",
       "0                  0.0  [1, 313, 958, 1490, 1901, 3229, 3238, 3239, 32...   \n",
       "1                  0.0  [1, 313, 958, 1490, 1901, 3229, 3238, 3239, 32...   \n",
       "2                  1.0  [10, 310, 311, 522, 1697, 3172, 3173, 3174, 31...   \n",
       "3                  2.0                                         [11, 1708]   \n",
       "4                  3.0                                    [12, 608, 1118]   \n",
       "...                ...                                                ...   \n",
       "2125            2128.0                                             [3290]   \n",
       "2126            2129.0                                             [3291]   \n",
       "2127            2130.0                                             [3292]   \n",
       "2128            2131.0                                             [3293]   \n",
       "2129            2132.0                                             [3294]   \n",
       "\n",
       "                                            highwayname  \\\n",
       "0     Schützenmattstrasse, Lorrainebrücke, Lorraineb...   \n",
       "1     Schützenmattstrasse, Lorrainebrücke, Lorraineb...   \n",
       "2     Marzilistrasse, Sulgeneckstrasse, Sandrainstra...   \n",
       "3                        Marzilistrasse, Marzilistrasse   \n",
       "4     Wasserwerkgasse, Wasserwerkgasse, Wasserwerkgasse   \n",
       "...                                                 ...   \n",
       "2125                                            unknown   \n",
       "2126                                            unknown   \n",
       "2127                                            unknown   \n",
       "2128                                            unknown   \n",
       "2129                                            unknown   \n",
       "\n",
       "                                            highwaytype  \\\n",
       "0     primary, secondary, secondary, primary, second...   \n",
       "1     primary, secondary, secondary, primary, second...   \n",
       "2     residential, residential, residential, residen...   \n",
       "3                              residential, residential   \n",
       "4                 residential, residential, residential   \n",
       "...                                                 ...   \n",
       "2125                                         pedestrian   \n",
       "2126                                         pedestrian   \n",
       "2127                                         pedestrian   \n",
       "2128                                           cycleway   \n",
       "2129                                           cycleway   \n",
       "\n",
       "                                           highwaylanes  \\\n",
       "0              2, 4, 3, 2, 2, unknown, 1, 1, 1, 1, 1, 1   \n",
       "1              2, 4, 3, 2, 2, unknown, 1, 1, 1, 1, 1, 1   \n",
       "2     2, 1, 2, unknown, 2, 1, 1, 1, 1, 1, 1, 1, 1, 1...   \n",
       "3                                                  2, 1   \n",
       "4                             unknown, unknown, unknown   \n",
       "...                                                 ...   \n",
       "2125                                            unknown   \n",
       "2126                                            unknown   \n",
       "2127                                            unknown   \n",
       "2128                                            unknown   \n",
       "2129                                            unknown   \n",
       "\n",
       "                                         lanes:backward  \\\n",
       "0     unknown, 2, 1, unknown, 1, unknown, unknown, u...   \n",
       "1     unknown, 2, 1, unknown, 1, unknown, unknown, u...   \n",
       "2     unknown, unknown, unknown, unknown, unknown, u...   \n",
       "3                                      unknown, unknown   \n",
       "4                             unknown, unknown, unknown   \n",
       "...                                                 ...   \n",
       "2125                                            unknown   \n",
       "2126                                            unknown   \n",
       "2127                                            unknown   \n",
       "2128                                            unknown   \n",
       "2129                                            unknown   \n",
       "\n",
       "                                      segment_nodes_ids  seg_length  \\\n",
       "0     [338958784, 3811147154, 2049637628, 5564049529...  254.330367   \n",
       "1     [338958784, 3811147154, 2049637628, 5564049529...  254.330367   \n",
       "2     [564770755, 4663118624, 2860577434, 8563870939...   90.306859   \n",
       "3     [564770865, 1015722344, 5071143424, 5071143424...   42.064801   \n",
       "4     [3920905, 1311078013, 3920905, 2896744316, 625...   12.908663   \n",
       "...                                                 ...         ...   \n",
       "2125                           [7788528441, 7788528444]    2.630357   \n",
       "2126                           [7788528444, 7788528442]    4.953128   \n",
       "2127                           [7788528442, 7788528439]    2.622865   \n",
       "2128                           [7842535098, 7842535097]   51.914426   \n",
       "2129                           [7842535097, 6140930661]    9.609277   \n",
       "\n",
       "                                          poly_geometry  \\\n",
       "0     POLYGON ((46.95337456559583 7.44015896270303, ...   \n",
       "1     POLYGON ((46.95337456559583 7.44015896270303, ...   \n",
       "2     POLYGON ((46.94083638700465 7.440002127689091,...   \n",
       "3     POLYGON ((46.94207754841979 7.442953375904438,...   \n",
       "4     POLYGON ((46.94821498446817 7.457734462788174,...   \n",
       "...                                                 ...   \n",
       "2125  POLYGON ((46.94447194674717 7.449176561304245,...   \n",
       "2126  POLYGON ((46.94446393619113 7.449112476473884,...   \n",
       "2127  POLYGON ((46.94445974411904 7.449078640241551,...   \n",
       "2128  POLYGON ((46.95365931297508 7.423715375049648,...   \n",
       "2129  POLYGON ((46.95361389964501 7.423813620450519,...   \n",
       "\n",
       "                                     poly_vertices_lats  \\\n",
       "0     [46.95337456559583, 46.95321863592993, 46.9531...   \n",
       "1     [46.95337456559583, 46.95321863592993, 46.9531...   \n",
       "2     [46.94083638700465, 46.94082081543674, 46.9407...   \n",
       "3     [46.94207754841979, 46.9422683857725, 46.94226...   \n",
       "4     [46.94821498446817, 46.94826636884634, 46.9481...   \n",
       "...                                                 ...   \n",
       "2125  [46.94447194674717, 46.94436320741938, 46.9443...   \n",
       "2126  [46.944463936191134, 46.94435513999867, 46.944...   \n",
       "2127  [46.944459744119044, 46.94435099071409, 46.944...   \n",
       "2128  [46.95365931297508, 46.95367731008164, 46.9532...   \n",
       "2129  [46.95361389964501, 46.953625546944004, 46.953...   \n",
       "\n",
       "                                     poly_vertices_lons  \n",
       "0     [7.4401589627030305, 7.4396840953471095, 7.439...  \n",
       "1     [7.4401589627030305, 7.4396840953471095, 7.439...  \n",
       "2     [7.440002127689091, 7.439466095667876, 7.43947...  \n",
       "3     [7.4429533759044375, 7.443111569905079, 7.4431...  \n",
       "4     [7.457734462788174, 7.457631067304516, 7.45758...  \n",
       "...                                                 ...  \n",
       "2125  [7.449176561304245, 7.449157804115087, 7.44930...  \n",
       "2126  [7.449112476473884, 7.449093917062028, 7.44926...  \n",
       "2127  [7.449078640241551, 7.449059932126568, 7.44920...  \n",
       "2128  [7.423715375049648, 7.423704272948659, 7.42335...  \n",
       "2129  [7.4238136204505185, 7.423828147473851, 7.4237...  \n",
       "\n",
       "[2130 rows x 11 columns]"
      ]
     },
     "execution_count": 7,
     "metadata": {},
     "output_type": "execute_result"
    }
   ],
   "source": [
    "bern_segments"
   ]
  },
  {
   "cell_type": "code",
   "execution_count": 8,
   "metadata": {},
   "outputs": [],
   "source": [
    "highways_no_names = bern_segments[bern_segments['highwayname'] == 'unknown'].copy()"
   ]
  },
  {
   "cell_type": "code",
   "execution_count": 9,
   "metadata": {},
   "outputs": [
    {
     "data": {
      "text/html": [
       "<div>\n",
       "<style scoped>\n",
       "    .dataframe tbody tr th:only-of-type {\n",
       "        vertical-align: middle;\n",
       "    }\n",
       "\n",
       "    .dataframe tbody tr th {\n",
       "        vertical-align: top;\n",
       "    }\n",
       "\n",
       "    .dataframe thead th {\n",
       "        text-align: right;\n",
       "    }\n",
       "</style>\n",
       "<table border=\"1\" class=\"dataframe\">\n",
       "  <thead>\n",
       "    <tr style=\"text-align: right;\">\n",
       "      <th></th>\n",
       "      <th>neighbour_cluster</th>\n",
       "      <th>id</th>\n",
       "      <th>highwayname</th>\n",
       "      <th>highwaytype</th>\n",
       "      <th>highwaylanes</th>\n",
       "      <th>lanes:backward</th>\n",
       "      <th>segment_nodes_ids</th>\n",
       "      <th>seg_length</th>\n",
       "      <th>poly_geometry</th>\n",
       "      <th>poly_vertices_lats</th>\n",
       "      <th>poly_vertices_lons</th>\n",
       "    </tr>\n",
       "  </thead>\n",
       "  <tbody>\n",
       "    <tr>\n",
       "      <th>362</th>\n",
       "      <td>366.0</td>\n",
       "      <td>[1957]</td>\n",
       "      <td>unknown</td>\n",
       "      <td>pedestrian</td>\n",
       "      <td>unknown</td>\n",
       "      <td>unknown</td>\n",
       "      <td>[495317262, 8538773417]</td>\n",
       "      <td>2.102635</td>\n",
       "      <td>POLYGON ((46.94345671021104 7.450378763126369,...</td>\n",
       "      <td>[46.943456710211045, 46.94356234408482, 46.943...</td>\n",
       "      <td>[7.450378763126369, 7.450306023136671, 7.45023...</td>\n",
       "    </tr>\n",
       "    <tr>\n",
       "      <th>363</th>\n",
       "      <td>367.0</td>\n",
       "      <td>[1966]</td>\n",
       "      <td>unknown</td>\n",
       "      <td>pedestrian</td>\n",
       "      <td>unknown</td>\n",
       "      <td>unknown</td>\n",
       "      <td>[2512585469, 16268104]</td>\n",
       "      <td>6.899291</td>\n",
       "      <td>POLYGON ((46.94386955184175 7.450554789706517,...</td>\n",
       "      <td>[46.94386955184175, 46.94394897047203, 46.9437...</td>\n",
       "      <td>[7.4505547897065165, 7.450445391915476, 7.4504...</td>\n",
       "    </tr>\n",
       "    <tr>\n",
       "      <th>376</th>\n",
       "      <td>380.0</td>\n",
       "      <td>[2319]</td>\n",
       "      <td>unknown</td>\n",
       "      <td>cycleway</td>\n",
       "      <td>unknown</td>\n",
       "      <td>unknown</td>\n",
       "      <td>[613042472, 613042468]</td>\n",
       "      <td>20.740621</td>\n",
       "      <td>POLYGON ((46.96050869691224 7.460956730263994,...</td>\n",
       "      <td>[46.96050869691224, 46.96051458955345, 46.9606...</td>\n",
       "      <td>[7.460956730263994, 7.460975835492043, 7.46077...</td>\n",
       "    </tr>\n",
       "    <tr>\n",
       "      <th>379</th>\n",
       "      <td>383.0</td>\n",
       "      <td>[2356]</td>\n",
       "      <td>unknown</td>\n",
       "      <td>cycleway</td>\n",
       "      <td>unknown</td>\n",
       "      <td>unknown</td>\n",
       "      <td>[6539506029, 6143536327]</td>\n",
       "      <td>4.302865</td>\n",
       "      <td>POLYGON ((46.95818862994864 7.438664477553824,...</td>\n",
       "      <td>[46.95818862994864, 46.95820189435418, 46.9582...</td>\n",
       "      <td>[7.438664477553824, 7.4386771172124595, 7.4386...</td>\n",
       "    </tr>\n",
       "    <tr>\n",
       "      <th>382</th>\n",
       "      <td>386.0</td>\n",
       "      <td>[2842]</td>\n",
       "      <td>unknown</td>\n",
       "      <td>cycleway</td>\n",
       "      <td>unknown</td>\n",
       "      <td>unknown</td>\n",
       "      <td>[5515123931, 7849477505]</td>\n",
       "      <td>4.382606</td>\n",
       "      <td>POLYGON ((46.95352730125781 7.424030216388764,...</td>\n",
       "      <td>[46.953527301257814, 46.953538942004585, 46.95...</td>\n",
       "      <td>[7.424030216388764, 7.424044750412956, 7.42397...</td>\n",
       "    </tr>\n",
       "    <tr>\n",
       "      <th>...</th>\n",
       "      <td>...</td>\n",
       "      <td>...</td>\n",
       "      <td>...</td>\n",
       "      <td>...</td>\n",
       "      <td>...</td>\n",
       "      <td>...</td>\n",
       "      <td>...</td>\n",
       "      <td>...</td>\n",
       "      <td>...</td>\n",
       "      <td>...</td>\n",
       "      <td>...</td>\n",
       "    </tr>\n",
       "    <tr>\n",
       "      <th>2125</th>\n",
       "      <td>2128.0</td>\n",
       "      <td>[3290]</td>\n",
       "      <td>unknown</td>\n",
       "      <td>pedestrian</td>\n",
       "      <td>unknown</td>\n",
       "      <td>unknown</td>\n",
       "      <td>[7788528441, 7788528444]</td>\n",
       "      <td>2.630357</td>\n",
       "      <td>POLYGON ((46.94447194674717 7.449176561304245,...</td>\n",
       "      <td>[46.94447194674717, 46.94436320741938, 46.9443...</td>\n",
       "      <td>[7.449176561304245, 7.449157804115087, 7.44930...</td>\n",
       "    </tr>\n",
       "    <tr>\n",
       "      <th>2126</th>\n",
       "      <td>2129.0</td>\n",
       "      <td>[3291]</td>\n",
       "      <td>unknown</td>\n",
       "      <td>pedestrian</td>\n",
       "      <td>unknown</td>\n",
       "      <td>unknown</td>\n",
       "      <td>[7788528444, 7788528442]</td>\n",
       "      <td>4.953128</td>\n",
       "      <td>POLYGON ((46.94446393619113 7.449112476473884,...</td>\n",
       "      <td>[46.944463936191134, 46.94435513999867, 46.944...</td>\n",
       "      <td>[7.449112476473884, 7.449093917062028, 7.44926...</td>\n",
       "    </tr>\n",
       "    <tr>\n",
       "      <th>2127</th>\n",
       "      <td>2130.0</td>\n",
       "      <td>[3292]</td>\n",
       "      <td>unknown</td>\n",
       "      <td>pedestrian</td>\n",
       "      <td>unknown</td>\n",
       "      <td>unknown</td>\n",
       "      <td>[7788528442, 7788528439]</td>\n",
       "      <td>2.622865</td>\n",
       "      <td>POLYGON ((46.94445974411904 7.449078640241551,...</td>\n",
       "      <td>[46.944459744119044, 46.94435099071409, 46.944...</td>\n",
       "      <td>[7.449078640241551, 7.449059932126568, 7.44920...</td>\n",
       "    </tr>\n",
       "    <tr>\n",
       "      <th>2128</th>\n",
       "      <td>2131.0</td>\n",
       "      <td>[3293]</td>\n",
       "      <td>unknown</td>\n",
       "      <td>cycleway</td>\n",
       "      <td>unknown</td>\n",
       "      <td>unknown</td>\n",
       "      <td>[7842535098, 7842535097]</td>\n",
       "      <td>51.914426</td>\n",
       "      <td>POLYGON ((46.95365931297508 7.423715375049648,...</td>\n",
       "      <td>[46.95365931297508, 46.95367731008164, 46.9532...</td>\n",
       "      <td>[7.423715375049648, 7.423704272948659, 7.42335...</td>\n",
       "    </tr>\n",
       "    <tr>\n",
       "      <th>2129</th>\n",
       "      <td>2132.0</td>\n",
       "      <td>[3294]</td>\n",
       "      <td>unknown</td>\n",
       "      <td>cycleway</td>\n",
       "      <td>unknown</td>\n",
       "      <td>unknown</td>\n",
       "      <td>[7842535097, 6140930661]</td>\n",
       "      <td>9.609277</td>\n",
       "      <td>POLYGON ((46.95361389964501 7.423813620450519,...</td>\n",
       "      <td>[46.95361389964501, 46.953625546944004, 46.953...</td>\n",
       "      <td>[7.4238136204505185, 7.423828147473851, 7.4237...</td>\n",
       "    </tr>\n",
       "  </tbody>\n",
       "</table>\n",
       "<p>727 rows × 11 columns</p>\n",
       "</div>"
      ],
      "text/plain": [
       "     neighbour_cluster      id highwayname highwaytype highwaylanes  \\\n",
       "362              366.0  [1957]     unknown  pedestrian      unknown   \n",
       "363              367.0  [1966]     unknown  pedestrian      unknown   \n",
       "376              380.0  [2319]     unknown    cycleway      unknown   \n",
       "379              383.0  [2356]     unknown    cycleway      unknown   \n",
       "382              386.0  [2842]     unknown    cycleway      unknown   \n",
       "...                ...     ...         ...         ...          ...   \n",
       "2125            2128.0  [3290]     unknown  pedestrian      unknown   \n",
       "2126            2129.0  [3291]     unknown  pedestrian      unknown   \n",
       "2127            2130.0  [3292]     unknown  pedestrian      unknown   \n",
       "2128            2131.0  [3293]     unknown    cycleway      unknown   \n",
       "2129            2132.0  [3294]     unknown    cycleway      unknown   \n",
       "\n",
       "     lanes:backward         segment_nodes_ids seg_length  \\\n",
       "362         unknown   [495317262, 8538773417]   2.102635   \n",
       "363         unknown    [2512585469, 16268104]   6.899291   \n",
       "376         unknown    [613042472, 613042468]  20.740621   \n",
       "379         unknown  [6539506029, 6143536327]   4.302865   \n",
       "382         unknown  [5515123931, 7849477505]   4.382606   \n",
       "...             ...                       ...        ...   \n",
       "2125        unknown  [7788528441, 7788528444]   2.630357   \n",
       "2126        unknown  [7788528444, 7788528442]   4.953128   \n",
       "2127        unknown  [7788528442, 7788528439]   2.622865   \n",
       "2128        unknown  [7842535098, 7842535097]  51.914426   \n",
       "2129        unknown  [7842535097, 6140930661]   9.609277   \n",
       "\n",
       "                                          poly_geometry  \\\n",
       "362   POLYGON ((46.94345671021104 7.450378763126369,...   \n",
       "363   POLYGON ((46.94386955184175 7.450554789706517,...   \n",
       "376   POLYGON ((46.96050869691224 7.460956730263994,...   \n",
       "379   POLYGON ((46.95818862994864 7.438664477553824,...   \n",
       "382   POLYGON ((46.95352730125781 7.424030216388764,...   \n",
       "...                                                 ...   \n",
       "2125  POLYGON ((46.94447194674717 7.449176561304245,...   \n",
       "2126  POLYGON ((46.94446393619113 7.449112476473884,...   \n",
       "2127  POLYGON ((46.94445974411904 7.449078640241551,...   \n",
       "2128  POLYGON ((46.95365931297508 7.423715375049648,...   \n",
       "2129  POLYGON ((46.95361389964501 7.423813620450519,...   \n",
       "\n",
       "                                     poly_vertices_lats  \\\n",
       "362   [46.943456710211045, 46.94356234408482, 46.943...   \n",
       "363   [46.94386955184175, 46.94394897047203, 46.9437...   \n",
       "376   [46.96050869691224, 46.96051458955345, 46.9606...   \n",
       "379   [46.95818862994864, 46.95820189435418, 46.9582...   \n",
       "382   [46.953527301257814, 46.953538942004585, 46.95...   \n",
       "...                                                 ...   \n",
       "2125  [46.94447194674717, 46.94436320741938, 46.9443...   \n",
       "2126  [46.944463936191134, 46.94435513999867, 46.944...   \n",
       "2127  [46.944459744119044, 46.94435099071409, 46.944...   \n",
       "2128  [46.95365931297508, 46.95367731008164, 46.9532...   \n",
       "2129  [46.95361389964501, 46.953625546944004, 46.953...   \n",
       "\n",
       "                                     poly_vertices_lons  \n",
       "362   [7.450378763126369, 7.450306023136671, 7.45023...  \n",
       "363   [7.4505547897065165, 7.450445391915476, 7.4504...  \n",
       "376   [7.460956730263994, 7.460975835492043, 7.46077...  \n",
       "379   [7.438664477553824, 7.4386771172124595, 7.4386...  \n",
       "382   [7.424030216388764, 7.424044750412956, 7.42397...  \n",
       "...                                                 ...  \n",
       "2125  [7.449176561304245, 7.449157804115087, 7.44930...  \n",
       "2126  [7.449112476473884, 7.449093917062028, 7.44926...  \n",
       "2127  [7.449078640241551, 7.449059932126568, 7.44920...  \n",
       "2128  [7.423715375049648, 7.423704272948659, 7.42335...  \n",
       "2129  [7.4238136204505185, 7.423828147473851, 7.4237...  \n",
       "\n",
       "[727 rows x 11 columns]"
      ]
     },
     "execution_count": 9,
     "metadata": {},
     "output_type": "execute_result"
    }
   ],
   "source": [
    "highways_no_names"
   ]
  },
  {
   "cell_type": "code",
   "execution_count": null,
   "metadata": {},
   "outputs": [],
   "source": [
    "highways_with_names = bern_segments[bern_segmentsdf['name'] != 'unknown'].copy()"
   ]
  }
 ],
 "metadata": {
  "kernelspec": {
   "display_name": "pypipe",
   "language": "python",
   "name": "pypipe"
  },
  "language_info": {
   "codemirror_mode": {
    "name": "ipython",
    "version": 3
   },
   "file_extension": ".py",
   "mimetype": "text/x-python",
   "name": "python",
   "nbconvert_exporter": "python",
   "pygments_lexer": "ipython3",
   "version": "3.8.3"
  }
 },
 "nbformat": 4,
 "nbformat_minor": 4
}
