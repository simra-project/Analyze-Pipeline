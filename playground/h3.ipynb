{
 "cells": [
  {
   "cell_type": "markdown",
   "metadata": {
    "collapsed": true,
    "pycharm": {
     "name": "#%% md\n"
    }
   },
   "source": [
    "# Evaluates the feasibility of using the H3 library for finding neighbors"
   ]
  },
  {
   "cell_type": "code",
   "execution_count": 9,
   "outputs": [],
   "source": [
    "import pandas as pd\n",
    "from shapely import wkt\n",
    "import h3\n",
    "from tqdm import tqdm\n",
    "\n",
    "junctions_csv = \"junctionsdf_stuttgart.csv\"\n",
    "h3_resolution = 8"
   ],
   "metadata": {
    "collapsed": false,
    "pycharm": {
     "name": "#%%\n"
    }
   }
  },
  {
   "cell_type": "code",
   "execution_count": 10,
   "outputs": [],
   "source": [
    "# Below copied from clusterJcts.py:\n",
    "\n",
    "def largeIntersection(poly1, poly2):\n",
    "    if not (poly1.intersects(poly2)):\n",
    "        return False\n",
    "    elif (((poly1.intersection(poly2).area/poly1.area)*100) > 8):\n",
    "        return True\n",
    "    elif (((poly1.intersection(poly2).area/poly2.area)*100) > 8):\n",
    "        return True\n",
    "\n",
    "# c) Check if two junctions share a square (which means they should end up in the same cluster)\n",
    "def sharedSquare(lst1, lst2):\n",
    "    lst3 = [value for value in lst1 if value in lst2]\n",
    "    if lst3 != []:\n",
    "        for elem in lst3:\n",
    "            if 'platz' in elem or 'Platz' in elem:\n",
    "                return True\n",
    "    return False\n",
    "\n",
    "# c) Put it all together to assign its neighbours to each junction\n",
    "\n",
    "def neighbourFindingWrapper(junctionsdf):\n",
    "\n",
    "    # Use buffer trick if polygon is invalid\n",
    "    # https://stackoverflow.com/questions/13062334/polygon-intersection-error-in-shapely-shapely-geos-topologicalerror-the-opera\n",
    "\n",
    "    junctionsdf['poly_geometry'] = junctionsdf['poly_geometry'].map(lambda poly: poly if poly.is_valid else poly.buffer(0))\n",
    "\n",
    "    ops_number = junctionsdf.index.size\n",
    "    # add row number, needed to check only x rows above/below current row in getNeighbours\n",
    "    junctionsdf['row_number'] = [x for x in range(0, ops_number)]\n",
    "    neighbours_list = []\n",
    "    bar = tqdm(total=ops_number, desc=\"Computing Neighbours\")\n",
    "\n",
    "    # prepare lists outside of loop to get rid of expensive pandas operations\n",
    "    index_list = junctionsdf.index.tolist()\n",
    "    poly_list = junctionsdf['poly_geometry'].tolist()\n",
    "    highway_list = junctionsdf['highwaynames'].tolist()\n",
    "\n",
    "    for id, geometry, highway_name, row_number in zip(junctionsdf.index,junctionsdf['poly_geometry'],junctionsdf['highwaynames'],junctionsdf['row_number']):\n",
    "        neighbours_list.append(getNeighbours(id, geometry, highway_name, row_number, index_list, poly_list, highway_list))\n",
    "        bar.update(1)\n",
    "\n",
    "    # remove row number\n",
    "    junctionsdf.drop(columns=['row_number'], inplace=True)\n",
    "    junctionsdf['neighbours'] = neighbours_list\n",
    "    bar.close()\n",
    "\n",
    "    # junctionsdf.dropna(subset=['neighbours'], inplace=True)\n",
    "\n",
    "    return junctionsdf\n",
    "\n",
    "def getNeighbours(outerInd, outerPoly, outerHighways, row_number, index_list, poly_list, highway_list):\n",
    "    max_row_diff = 1500\n",
    "    # we do not need to check all rows for neighbours. to be safe, let's check max_row_diff above and max_row_diff below row number\n",
    "    lower_range = max(0, row_number - max_row_diff)\n",
    "    upper_range = min(len(index_list), row_number + max_row_diff)\n",
    "\n",
    "    # check largeIntersection or sharedSquare for each item in poly_list/highway_list\n",
    "    neighbours = []\n",
    "    for i in range(lower_range, upper_range):\n",
    "        if outerInd == index_list[i]:\n",
    "            continue\n",
    "\n",
    "        intersection = largeIntersection(poly_list[i], outerPoly)\n",
    "        square = sharedSquare(highway_list[i], outerHighways)\n",
    "\n",
    "        if intersection or square:\n",
    "            diff_percentage = abs(row_number - i) / float(max_row_diff)\n",
    "            if diff_percentage >= 0.8:\n",
    "                print(\"Row difference at {0!s}%, absolute max_row_diff is {1!s}\".format(diff_percentage, abs(row_number - i)))\n",
    "\n",
    "            neighbours.append(index_list[i])\n",
    "\n",
    "    return neighbours"
   ],
   "metadata": {
    "collapsed": false,
    "pycharm": {
     "name": "#%%\n"
    }
   }
  },
  {
   "cell_type": "code",
   "execution_count": 11,
   "outputs": [
    {
     "name": "stderr",
     "output_type": "stream",
     "text": [
      "Computing Neighbours:   0%|          | 1/66448 [11:36<12860:00:38, 696.74s/it]\n"
     ]
    },
    {
     "data": {
      "text/plain": "                 lat       lon                                 highwayids  \\\nid                                                                          \n173097876  48.520746  8.775702           [36731756, 372332684, 426974536]   \n426938252  48.522502  8.777334                       [27120149, 36731756]   \n173096469  48.532423  8.775203             [16743795, 16743802, 23577078]   \n173096563  48.531917  8.773936             [16743802, 26934398, 16743810]   \n281413533  48.529614  8.774486  [25799537, 27119682, 158188075, 16743810]   \n\n                                                highwaynames  \\\nid                                                             \n173097876                     ['K 6940', 'L 1361', 'L 1361']   \n426938252                               ['K 1072', 'K 6940']   \n173096469  ['Brühlstraße', 'Brühlstraße', 'Schlossgartens...   \n173096563   ['Brühlstraße', 'Vollmaringer Straße', 'K 1072']   \n281413533  ['Goethestraße', 'In der Röte', 'Baisinger Str...   \n\n                                                highwaytypes  \\\nid                                                             \n173097876             ['tertiary', 'secondary', 'secondary']   \n426938252                           ['tertiary', 'tertiary']   \n173096469               ['tertiary', 'tertiary', 'tertiary']   \n173096563            ['tertiary', 'residential', 'tertiary']   \n281413533  ['residential', 'residential', 'tertiary', 'te...   \n\n                                           highwaylanes  \\\nid                                                        \n173097876             ['unknown', 'unknown', 'unknown']   \n426938252                        ['unknown', 'unknown']   \n173096469             ['unknown', 'unknown', 'unknown']   \n173096563             ['unknown', 'unknown', 'unknown']   \n281413533  ['unknown', 'unknown', 'unknown', 'unknown']   \n\n                                         highwaylanesBw  \\\nid                                                        \n173097876             ['unknown', 'unknown', 'unknown']   \n426938252                        ['unknown', 'unknown']   \n173096469             ['unknown', 'unknown', 'unknown']   \n173096563             ['unknown', 'unknown', 'unknown']   \n281413533  ['unknown', 'unknown', 'unknown', 'unknown']   \n\n                                               poly_geometry  \\\nid                                                             \n173097876  POLYGON ((48.52090537488439 8.775698510692514,...   \n426938252  POLYGON ((48.52265266750056 8.777330337629358,...   \n173096469  POLYGON ((48.53257366679242 8.775198930130973,...   \n173096563  POLYGON ((48.53207222041966 8.773932315071427,...   \n281413533  POLYGON ((48.52977149741602 8.774481761402312,...   \n\n                                          poly_vertices_lats  \\\nid                                                             \n173097876  array('d', [48.52090537488439, 48.520743351014...   \n426938252  array('d', [48.52265266750056, 48.522499905509...   \n173096469  array('d', [48.532573666792416, 48.53242090109...   \n173096563  array('d', [48.53207222041966, 48.531914822815...   \n281413533  array('d', [48.52977149741602, 48.529611786151...   \n\n                                          poly_vertices_lons  \nid                                                            \n173097876  array('d', [8.775698510692514, 8.7754626614868...  \n426938252  array('d', [8.777330337629358, 8.7771079528511...  \n173096469  array('d', [8.775198930130973, 8.7749765082359...  \n173096563  array('d', [8.773932315071427, 8.7737031593739...  \n281413533  array('d', [8.774481761402312, 8.7742492446035...  ",
      "text/html": "<div>\n<style scoped>\n    .dataframe tbody tr th:only-of-type {\n        vertical-align: middle;\n    }\n\n    .dataframe tbody tr th {\n        vertical-align: top;\n    }\n\n    .dataframe thead th {\n        text-align: right;\n    }\n</style>\n<table border=\"1\" class=\"dataframe\">\n  <thead>\n    <tr style=\"text-align: right;\">\n      <th></th>\n      <th>lat</th>\n      <th>lon</th>\n      <th>highwayids</th>\n      <th>highwaynames</th>\n      <th>highwaytypes</th>\n      <th>highwaylanes</th>\n      <th>highwaylanesBw</th>\n      <th>poly_geometry</th>\n      <th>poly_vertices_lats</th>\n      <th>poly_vertices_lons</th>\n    </tr>\n    <tr>\n      <th>id</th>\n      <th></th>\n      <th></th>\n      <th></th>\n      <th></th>\n      <th></th>\n      <th></th>\n      <th></th>\n      <th></th>\n      <th></th>\n      <th></th>\n    </tr>\n  </thead>\n  <tbody>\n    <tr>\n      <th>173097876</th>\n      <td>48.520746</td>\n      <td>8.775702</td>\n      <td>[36731756, 372332684, 426974536]</td>\n      <td>['K 6940', 'L 1361', 'L 1361']</td>\n      <td>['tertiary', 'secondary', 'secondary']</td>\n      <td>['unknown', 'unknown', 'unknown']</td>\n      <td>['unknown', 'unknown', 'unknown']</td>\n      <td>POLYGON ((48.52090537488439 8.775698510692514,...</td>\n      <td>array('d', [48.52090537488439, 48.520743351014...</td>\n      <td>array('d', [8.775698510692514, 8.7754626614868...</td>\n    </tr>\n    <tr>\n      <th>426938252</th>\n      <td>48.522502</td>\n      <td>8.777334</td>\n      <td>[27120149, 36731756]</td>\n      <td>['K 1072', 'K 6940']</td>\n      <td>['tertiary', 'tertiary']</td>\n      <td>['unknown', 'unknown']</td>\n      <td>['unknown', 'unknown']</td>\n      <td>POLYGON ((48.52265266750056 8.777330337629358,...</td>\n      <td>array('d', [48.52265266750056, 48.522499905509...</td>\n      <td>array('d', [8.777330337629358, 8.7771079528511...</td>\n    </tr>\n    <tr>\n      <th>173096469</th>\n      <td>48.532423</td>\n      <td>8.775203</td>\n      <td>[16743795, 16743802, 23577078]</td>\n      <td>['Brühlstraße', 'Brühlstraße', 'Schlossgartens...</td>\n      <td>['tertiary', 'tertiary', 'tertiary']</td>\n      <td>['unknown', 'unknown', 'unknown']</td>\n      <td>['unknown', 'unknown', 'unknown']</td>\n      <td>POLYGON ((48.53257366679242 8.775198930130973,...</td>\n      <td>array('d', [48.532573666792416, 48.53242090109...</td>\n      <td>array('d', [8.775198930130973, 8.7749765082359...</td>\n    </tr>\n    <tr>\n      <th>173096563</th>\n      <td>48.531917</td>\n      <td>8.773936</td>\n      <td>[16743802, 26934398, 16743810]</td>\n      <td>['Brühlstraße', 'Vollmaringer Straße', 'K 1072']</td>\n      <td>['tertiary', 'residential', 'tertiary']</td>\n      <td>['unknown', 'unknown', 'unknown']</td>\n      <td>['unknown', 'unknown', 'unknown']</td>\n      <td>POLYGON ((48.53207222041966 8.773932315071427,...</td>\n      <td>array('d', [48.53207222041966, 48.531914822815...</td>\n      <td>array('d', [8.773932315071427, 8.7737031593739...</td>\n    </tr>\n    <tr>\n      <th>281413533</th>\n      <td>48.529614</td>\n      <td>8.774486</td>\n      <td>[25799537, 27119682, 158188075, 16743810]</td>\n      <td>['Goethestraße', 'In der Röte', 'Baisinger Str...</td>\n      <td>['residential', 'residential', 'tertiary', 'te...</td>\n      <td>['unknown', 'unknown', 'unknown', 'unknown']</td>\n      <td>['unknown', 'unknown', 'unknown', 'unknown']</td>\n      <td>POLYGON ((48.52977149741602 8.774481761402312,...</td>\n      <td>array('d', [48.52977149741602, 48.529611786151...</td>\n      <td>array('d', [8.774481761402312, 8.7742492446035...</td>\n    </tr>\n  </tbody>\n</table>\n</div>"
     },
     "execution_count": 11,
     "metadata": {},
     "output_type": "execute_result"
    }
   ],
   "source": [
    "# read in csv file that comprises the junctionsdf available also in clussterJcts.py\n",
    "\n",
    "df = pd.read_csv(junctions_csv, index_col=\"id\")\n",
    "\n",
    "# parse string poly\n",
    "df['poly_geometry'] = df['poly_geometry'].apply(wkt.loads)\n",
    "\n",
    "# ignore invalid polys as done in clusterJcts.py\n",
    "df['poly_geometry'] = df['poly_geometry'].map(lambda poly: poly if poly.is_valid else poly.buffer(0))\n",
    "\n",
    "df.head()"
   ],
   "metadata": {
    "collapsed": false,
    "pycharm": {
     "name": "#%%\n"
    }
   }
  },
  {
   "cell_type": "code",
   "execution_count": 12,
   "outputs": [
    {
     "name": "stdout",
     "output_type": "stream",
     "text": [
      "48.520746/8.7757024 has the h3 string 881f81b1e1fffff in the cell 15\n",
      "The h3 ring comprises {'881f81b1edfffff', '881f81b1e9fffff', '881f81b1e7fffff', '881f81b1ebfffff', '881f81b1e3fffff', '881f81b1e5fffff'}\n"
     ]
    }
   ],
   "source": [
    "# this is just code to experiment with h3\n",
    "\n",
    "# select row by index\n",
    "row = df.loc[173097876]\n",
    "\n",
    "# do some h3 operations on lat/lon of row\n",
    "h3_str = h3.geo_to_h3(row[\"lat\"], row[\"lon\"], h3_resolution)\n",
    "h3_cell = h3.h3_get_base_cell(h3_str)\n",
    "h3_ring = h3.hex_ring(h3_str, 1)\n",
    "\n",
    "print(\"{0!s}/{1!s} has the h3 string {2!s} in the cell {3!s}\".format(row[\"lat\"], row[\"lon\"], h3_str, h3_cell))\n",
    "print(\"The h3 ring comprises {0!s}\".format(h3_ring))"
   ],
   "metadata": {
    "collapsed": false,
    "pycharm": {
     "name": "#%%\n"
    }
   }
  },
  {
   "cell_type": "markdown",
   "source": [
    "## Below starts the actual code that does the neighbour search with H3"
   ],
   "metadata": {
    "collapsed": false,
    "pycharm": {
     "name": "#%% md\n"
    }
   }
  },
  {
   "cell_type": "code",
   "execution_count": 13,
   "outputs": [
    {
     "data": {
      "text/plain": "count               66448\nunique               4054\ntop       881f8c9001fffff\nfreq                  115\nName: h3, dtype: object"
     },
     "execution_count": 13,
     "metadata": {},
     "output_type": "execute_result"
    }
   ],
   "source": [
    "# add an h3 column\n",
    "df[\"h3\"] = df.apply (lambda row: h3.geo_to_h3(row[\"lat\"], row[\"lon\"], h3_resolution), axis=1)\n",
    "df[\"h3\"].describe()"
   ],
   "metadata": {
    "collapsed": false,
    "pycharm": {
     "name": "#%%\n"
    }
   }
  },
  {
   "cell_type": "code",
   "execution_count": 14,
   "outputs": [
    {
     "name": "stderr",
     "output_type": "stream",
     "text": [
      "Computing Neighbours: 100%|██████████| 66448/66448 [10:49<00:00, 102.34it/s]\n"
     ]
    },
    {
     "name": "stdout",
     "output_type": "stream",
     "text": [
      "Checked on average 1621 entires for neighbours\n"
     ]
    }
   ],
   "source": [
    "ops_number = df.index.size\n",
    "\n",
    "bar = tqdm(total=ops_number, desc=\"Computing Neighbours\")\n",
    "df_h3_only = pd.DataFrame(df.h3.tolist(), index=df.index)\n",
    "neighbours_list = []\n",
    "\n",
    "checked = 0\n",
    "\n",
    "for id in df.index:\n",
    "\n",
    "    row = df.loc[id]\n",
    "    h3_ring = h3.hex_ring(row[\"h3\"], 1)\n",
    "    h3_ring.add(row[\"h3\"]) # add own cell to ring\n",
    "\n",
    "    # From https://stackoverflow.com/questions/53342715/pandas-dataframe-select-rows-where-a-list-column-contains-any-of-a-list-of-strin\n",
    "    rows_to_check = df[df_h3_only.isin(h3_ring).any(1).values]\n",
    "    checked += rows_to_check.size\n",
    "\n",
    "    neighbour_rows = rows_to_check[rows_to_check.apply(lambda apply_row: (largeIntersection(apply_row['poly_geometry'],row[\"poly_geometry\"]) or sharedSquare(apply_row['highwaynames'], row['highwaynames'])), axis=1)]\n",
    "\n",
    "    # Grab indices of those rows that passed the filter\n",
    "    neighbours = neighbour_rows.index.tolist()\n",
    "    # remove use from the neighbourslist\n",
    "    neighbours.remove(id)\n",
    "\n",
    "    neighbours_list.append(neighbours)\n",
    "    bar.update(1)\n",
    "\n",
    "print(\"Checked on average {0!s} entires for neighbours\".format(int(checked / df.index.size)))\n",
    "\n",
    "# remove row number\n",
    "df['neighbours'] = neighbours_list\n",
    "bar.close()"
   ],
   "metadata": {
    "collapsed": false,
    "pycharm": {
     "name": "#%%\n"
    }
   }
  },
  {
   "cell_type": "code",
   "source": [
    "df['neighbours'].head(50)"
   ],
   "metadata": {
    "collapsed": false,
    "pycharm": {
     "name": "#%%\n"
    }
   },
   "execution_count": 15,
   "outputs": [
    {
     "data": {
      "text/plain": "id\n173097876                         []\n426938252                         []\n173096469                         []\n173096563                [295137117]\n281413533                         []\n281413535                         []\n295133819                         []\n295137117     [173096563, 297554382]\n297542129                         []\n297542135                [297550504]\n297545389                         []\n297545450                         []\n297545470                         []\n297550504                [297542135]\n297550517                         []\n297554378                         []\n297554382                [295137117]\n281413536                         []\n281413538                         []\n281413547                         []\n281413550                         []\n286463745                         []\n286463767                [295121658]\n290794553                         []\n295121649                [295123713]\n295121657                         []\n295121658                [286463767]\n295123533                         []\n295123713                [295121649]\n295130362                         []\n295130364                         []\n295130386                         []\n295130398                         []\n295132383                         []\n295132389                         []\n295132393                         []\n295132415                         []\n295133777                         []\n295133790                         []\n295133810                         []\n295137129                         []\n295139347                         []\n122625571                [122626898]\n122626898                [122625571]\n255319632                         []\n255319633                         []\n283685105                         []\n3596572423                        []\n3771835812                        []\n130254256                         []\nName: neighbours, dtype: object"
     },
     "execution_count": 15,
     "metadata": {},
     "output_type": "execute_result"
    }
   ]
  },
  {
   "cell_type": "markdown",
   "source": [
    "## Run old code for comparison"
   ],
   "metadata": {
    "collapsed": false,
    "pycharm": {
     "name": "#%% md\n"
    }
   }
  },
  {
   "cell_type": "code",
   "execution_count": 16,
   "outputs": [
    {
     "data": {
      "text/plain": "                 lat       lon                                 highwayids  \\\nid                                                                          \n173097876  48.520746  8.775702           [36731756, 372332684, 426974536]   \n426938252  48.522502  8.777334                       [27120149, 36731756]   \n173096469  48.532423  8.775203             [16743795, 16743802, 23577078]   \n173096563  48.531917  8.773936             [16743802, 26934398, 16743810]   \n281413533  48.529614  8.774486  [25799537, 27119682, 158188075, 16743810]   \n\n                                                highwaynames  \\\nid                                                             \n173097876                     ['K 6940', 'L 1361', 'L 1361']   \n426938252                               ['K 1072', 'K 6940']   \n173096469  ['Brühlstraße', 'Brühlstraße', 'Schlossgartens...   \n173096563   ['Brühlstraße', 'Vollmaringer Straße', 'K 1072']   \n281413533  ['Goethestraße', 'In der Röte', 'Baisinger Str...   \n\n                                                highwaytypes  \\\nid                                                             \n173097876             ['tertiary', 'secondary', 'secondary']   \n426938252                           ['tertiary', 'tertiary']   \n173096469               ['tertiary', 'tertiary', 'tertiary']   \n173096563            ['tertiary', 'residential', 'tertiary']   \n281413533  ['residential', 'residential', 'tertiary', 'te...   \n\n                                           highwaylanes  \\\nid                                                        \n173097876             ['unknown', 'unknown', 'unknown']   \n426938252                        ['unknown', 'unknown']   \n173096469             ['unknown', 'unknown', 'unknown']   \n173096563             ['unknown', 'unknown', 'unknown']   \n281413533  ['unknown', 'unknown', 'unknown', 'unknown']   \n\n                                         highwaylanesBw  \\\nid                                                        \n173097876             ['unknown', 'unknown', 'unknown']   \n426938252                        ['unknown', 'unknown']   \n173096469             ['unknown', 'unknown', 'unknown']   \n173096563             ['unknown', 'unknown', 'unknown']   \n281413533  ['unknown', 'unknown', 'unknown', 'unknown']   \n\n                                               poly_geometry  \\\nid                                                             \n173097876  POLYGON ((48.52090537488439 8.775698510692514,...   \n426938252  POLYGON ((48.52265266750056 8.777330337629358,...   \n173096469  POLYGON ((48.53257366679242 8.775198930130973,...   \n173096563  POLYGON ((48.53207222041966 8.773932315071427,...   \n281413533  POLYGON ((48.52977149741602 8.774481761402312,...   \n\n                                          poly_vertices_lats  \\\nid                                                             \n173097876  array('d', [48.52090537488439, 48.520743351014...   \n426938252  array('d', [48.52265266750056, 48.522499905509...   \n173096469  array('d', [48.532573666792416, 48.53242090109...   \n173096563  array('d', [48.53207222041966, 48.531914822815...   \n281413533  array('d', [48.52977149741602, 48.529611786151...   \n\n                                          poly_vertices_lons  \nid                                                            \n173097876  array('d', [8.775698510692514, 8.7754626614868...  \n426938252  array('d', [8.777330337629358, 8.7771079528511...  \n173096469  array('d', [8.775198930130973, 8.7749765082359...  \n173096563  array('d', [8.773932315071427, 8.7737031593739...  \n281413533  array('d', [8.774481761402312, 8.7742492446035...  ",
      "text/html": "<div>\n<style scoped>\n    .dataframe tbody tr th:only-of-type {\n        vertical-align: middle;\n    }\n\n    .dataframe tbody tr th {\n        vertical-align: top;\n    }\n\n    .dataframe thead th {\n        text-align: right;\n    }\n</style>\n<table border=\"1\" class=\"dataframe\">\n  <thead>\n    <tr style=\"text-align: right;\">\n      <th></th>\n      <th>lat</th>\n      <th>lon</th>\n      <th>highwayids</th>\n      <th>highwaynames</th>\n      <th>highwaytypes</th>\n      <th>highwaylanes</th>\n      <th>highwaylanesBw</th>\n      <th>poly_geometry</th>\n      <th>poly_vertices_lats</th>\n      <th>poly_vertices_lons</th>\n    </tr>\n    <tr>\n      <th>id</th>\n      <th></th>\n      <th></th>\n      <th></th>\n      <th></th>\n      <th></th>\n      <th></th>\n      <th></th>\n      <th></th>\n      <th></th>\n      <th></th>\n    </tr>\n  </thead>\n  <tbody>\n    <tr>\n      <th>173097876</th>\n      <td>48.520746</td>\n      <td>8.775702</td>\n      <td>[36731756, 372332684, 426974536]</td>\n      <td>['K 6940', 'L 1361', 'L 1361']</td>\n      <td>['tertiary', 'secondary', 'secondary']</td>\n      <td>['unknown', 'unknown', 'unknown']</td>\n      <td>['unknown', 'unknown', 'unknown']</td>\n      <td>POLYGON ((48.52090537488439 8.775698510692514,...</td>\n      <td>array('d', [48.52090537488439, 48.520743351014...</td>\n      <td>array('d', [8.775698510692514, 8.7754626614868...</td>\n    </tr>\n    <tr>\n      <th>426938252</th>\n      <td>48.522502</td>\n      <td>8.777334</td>\n      <td>[27120149, 36731756]</td>\n      <td>['K 1072', 'K 6940']</td>\n      <td>['tertiary', 'tertiary']</td>\n      <td>['unknown', 'unknown']</td>\n      <td>['unknown', 'unknown']</td>\n      <td>POLYGON ((48.52265266750056 8.777330337629358,...</td>\n      <td>array('d', [48.52265266750056, 48.522499905509...</td>\n      <td>array('d', [8.777330337629358, 8.7771079528511...</td>\n    </tr>\n    <tr>\n      <th>173096469</th>\n      <td>48.532423</td>\n      <td>8.775203</td>\n      <td>[16743795, 16743802, 23577078]</td>\n      <td>['Brühlstraße', 'Brühlstraße', 'Schlossgartens...</td>\n      <td>['tertiary', 'tertiary', 'tertiary']</td>\n      <td>['unknown', 'unknown', 'unknown']</td>\n      <td>['unknown', 'unknown', 'unknown']</td>\n      <td>POLYGON ((48.53257366679242 8.775198930130973,...</td>\n      <td>array('d', [48.532573666792416, 48.53242090109...</td>\n      <td>array('d', [8.775198930130973, 8.7749765082359...</td>\n    </tr>\n    <tr>\n      <th>173096563</th>\n      <td>48.531917</td>\n      <td>8.773936</td>\n      <td>[16743802, 26934398, 16743810]</td>\n      <td>['Brühlstraße', 'Vollmaringer Straße', 'K 1072']</td>\n      <td>['tertiary', 'residential', 'tertiary']</td>\n      <td>['unknown', 'unknown', 'unknown']</td>\n      <td>['unknown', 'unknown', 'unknown']</td>\n      <td>POLYGON ((48.53207222041966 8.773932315071427,...</td>\n      <td>array('d', [48.53207222041966, 48.531914822815...</td>\n      <td>array('d', [8.773932315071427, 8.7737031593739...</td>\n    </tr>\n    <tr>\n      <th>281413533</th>\n      <td>48.529614</td>\n      <td>8.774486</td>\n      <td>[25799537, 27119682, 158188075, 16743810]</td>\n      <td>['Goethestraße', 'In der Röte', 'Baisinger Str...</td>\n      <td>['residential', 'residential', 'tertiary', 'te...</td>\n      <td>['unknown', 'unknown', 'unknown', 'unknown']</td>\n      <td>['unknown', 'unknown', 'unknown', 'unknown']</td>\n      <td>POLYGON ((48.52977149741602 8.774481761402312,...</td>\n      <td>array('d', [48.52977149741602, 48.529611786151...</td>\n      <td>array('d', [8.774481761402312, 8.7742492446035...</td>\n    </tr>\n  </tbody>\n</table>\n</div>"
     },
     "execution_count": 16,
     "metadata": {},
     "output_type": "execute_result"
    }
   ],
   "source": [
    "# read in csv file that comprises the junctionsdf available also in clussterJcts.py\n",
    "\n",
    "df_old = pd.read_csv(junctions_csv, index_col=\"id\")\n",
    "\n",
    "# parse string poly\n",
    "df_old['poly_geometry'] = df_old['poly_geometry'].apply(wkt.loads)\n",
    "\n",
    "# ignore invalid polys as done in clusterJcts.py\n",
    "df_old['poly_geometry'] = df_old['poly_geometry'].map(lambda poly: poly if poly.is_valid else poly.buffer(0))\n",
    "\n",
    "df_old.head()"
   ],
   "metadata": {
    "collapsed": false,
    "pycharm": {
     "name": "#%%\n"
    }
   }
  },
  {
   "cell_type": "code",
   "execution_count": 17,
   "outputs": [
    {
     "name": "stderr",
     "output_type": "stream",
     "text": [
      "Computing Neighbours: 100%|██████████| 66448/66448 [26:02<00:00, 42.54it/s]\n"
     ]
    },
    {
     "name": "stdout",
     "output_type": "stream",
     "text": [
      "Row difference at 0.8786666666666667%, absolute max_row_diff is 1318\n",
      "Row difference at 0.8786666666666667%, absolute max_row_diff is 1318\n",
      "Row difference at 0.8706666666666667%, absolute max_row_diff is 1306\n",
      "Row difference at 0.8606666666666667%, absolute max_row_diff is 1291\n",
      "Row difference at 0.8706666666666667%, absolute max_row_diff is 1306\n",
      "Row difference at 0.8606666666666667%, absolute max_row_diff is 1291\n"
     ]
    }
   ],
   "source": [
    "df_old = neighbourFindingWrapper(df_old)"
   ],
   "metadata": {
    "collapsed": false,
    "pycharm": {
     "name": "#%%\n"
    }
   }
  },
  {
   "cell_type": "code",
   "execution_count": 21,
   "outputs": [
    {
     "data": {
      "text/plain": "id\n173097876                         []\n426938252                         []\n173096469                         []\n173096563                [295137117]\n281413533                         []\n281413535                         []\n295133819                         []\n295137117     [173096563, 297554382]\n297542129                         []\n297542135                [297550504]\n297545389                         []\n297545450                         []\n297545470                         []\n297550504                [297542135]\n297550517                         []\n297554378                         []\n297554382                [295137117]\n281413536                         []\n281413538                         []\n281413547                         []\n281413550                         []\n286463745                         []\n286463767                [295121658]\n290794553                         []\n295121649                [295123713]\n295121657                         []\n295121658                [286463767]\n295123533                         []\n295123713                [295121649]\n295130362                         []\n295130364                         []\n295130386                         []\n295130398                         []\n295132383                         []\n295132389                         []\n295132393                         []\n295132415                         []\n295133777                         []\n295133790                         []\n295133810                         []\n295137129                         []\n295139347                         []\n122625571                [122626898]\n122626898                [122625571]\n255319632                         []\n255319633                         []\n283685105                         []\n3596572423                        []\n3771835812                        []\n130254256                         []\nName: neighbours, dtype: object"
     },
     "execution_count": 21,
     "metadata": {},
     "output_type": "execute_result"
    }
   ],
   "source": [
    "df_old[\"neighbours\"].head(50)"
   ],
   "metadata": {
    "collapsed": false,
    "pycharm": {
     "name": "#%%\n"
    }
   }
  },
  {
   "cell_type": "code",
   "execution_count": 27,
   "outputs": [
    {
     "name": "stdout",
     "output_type": "stream",
     "text": [
      "Self = H3, Other = Old Strategy\n"
     ]
    },
    {
     "data": {
      "text/plain": "                                         self                   other\nid                                                                   \n518990598                         [518990600]                      []\n235605158              [248095255, 248095256]             [248095255]\n248095255              [235605158, 248095256]             [235605158]\n375679972                         [684149401]                      []\n684149401                         [375679972]                      []\n248095256   [235605158, 248095255, 149033927]             [149033927]\n102984577                            [646883]                      []\n20850506     [82770965, 1580857799, 18240910]  [82770965, 1580857799]\n279006817                          [28249736]                      []\n60622533                         [4539723593]                      []\n646883                    [102984577, 646882]                [646882]\n18240910                           [20850506]                      []\n130161902                         [130161909]                      []\n29686408              [150544900, 5313389727]                      []\n4539723593                         [60622533]                      []\n518990600                         [518990598]                      []\n30817396                          [189487365]                      []\n2258496929                        [809947174]                      []\n28249736                          [279006817]                      []\n82751288                           [95199871]                      []\n189487365                [30817396, 30817395]              [30817395]\n130161909                         [130161902]                      []\n95199871                           [82751288]                      []\n150544900                          [29686408]                      []\n5313389727             [29686408, 5313389728]            [5313389728]\n101708031                         [101708039]                      []\n809947174                        [2258496929]                      []\n101708039                         [101708031]                      []\n308072626                         [308807800]                      []\n308807800                         [308072626]                      []",
      "text/html": "<div>\n<style scoped>\n    .dataframe tbody tr th:only-of-type {\n        vertical-align: middle;\n    }\n\n    .dataframe tbody tr th {\n        vertical-align: top;\n    }\n\n    .dataframe thead th {\n        text-align: right;\n    }\n</style>\n<table border=\"1\" class=\"dataframe\">\n  <thead>\n    <tr style=\"text-align: right;\">\n      <th></th>\n      <th>self</th>\n      <th>other</th>\n    </tr>\n    <tr>\n      <th>id</th>\n      <th></th>\n      <th></th>\n    </tr>\n  </thead>\n  <tbody>\n    <tr>\n      <th>518990598</th>\n      <td>[518990600]</td>\n      <td>[]</td>\n    </tr>\n    <tr>\n      <th>235605158</th>\n      <td>[248095255, 248095256]</td>\n      <td>[248095255]</td>\n    </tr>\n    <tr>\n      <th>248095255</th>\n      <td>[235605158, 248095256]</td>\n      <td>[235605158]</td>\n    </tr>\n    <tr>\n      <th>375679972</th>\n      <td>[684149401]</td>\n      <td>[]</td>\n    </tr>\n    <tr>\n      <th>684149401</th>\n      <td>[375679972]</td>\n      <td>[]</td>\n    </tr>\n    <tr>\n      <th>248095256</th>\n      <td>[235605158, 248095255, 149033927]</td>\n      <td>[149033927]</td>\n    </tr>\n    <tr>\n      <th>102984577</th>\n      <td>[646883]</td>\n      <td>[]</td>\n    </tr>\n    <tr>\n      <th>20850506</th>\n      <td>[82770965, 1580857799, 18240910]</td>\n      <td>[82770965, 1580857799]</td>\n    </tr>\n    <tr>\n      <th>279006817</th>\n      <td>[28249736]</td>\n      <td>[]</td>\n    </tr>\n    <tr>\n      <th>60622533</th>\n      <td>[4539723593]</td>\n      <td>[]</td>\n    </tr>\n    <tr>\n      <th>646883</th>\n      <td>[102984577, 646882]</td>\n      <td>[646882]</td>\n    </tr>\n    <tr>\n      <th>18240910</th>\n      <td>[20850506]</td>\n      <td>[]</td>\n    </tr>\n    <tr>\n      <th>130161902</th>\n      <td>[130161909]</td>\n      <td>[]</td>\n    </tr>\n    <tr>\n      <th>29686408</th>\n      <td>[150544900, 5313389727]</td>\n      <td>[]</td>\n    </tr>\n    <tr>\n      <th>4539723593</th>\n      <td>[60622533]</td>\n      <td>[]</td>\n    </tr>\n    <tr>\n      <th>518990600</th>\n      <td>[518990598]</td>\n      <td>[]</td>\n    </tr>\n    <tr>\n      <th>30817396</th>\n      <td>[189487365]</td>\n      <td>[]</td>\n    </tr>\n    <tr>\n      <th>2258496929</th>\n      <td>[809947174]</td>\n      <td>[]</td>\n    </tr>\n    <tr>\n      <th>28249736</th>\n      <td>[279006817]</td>\n      <td>[]</td>\n    </tr>\n    <tr>\n      <th>82751288</th>\n      <td>[95199871]</td>\n      <td>[]</td>\n    </tr>\n    <tr>\n      <th>189487365</th>\n      <td>[30817396, 30817395]</td>\n      <td>[30817395]</td>\n    </tr>\n    <tr>\n      <th>130161909</th>\n      <td>[130161902]</td>\n      <td>[]</td>\n    </tr>\n    <tr>\n      <th>95199871</th>\n      <td>[82751288]</td>\n      <td>[]</td>\n    </tr>\n    <tr>\n      <th>150544900</th>\n      <td>[29686408]</td>\n      <td>[]</td>\n    </tr>\n    <tr>\n      <th>5313389727</th>\n      <td>[29686408, 5313389728]</td>\n      <td>[5313389728]</td>\n    </tr>\n    <tr>\n      <th>101708031</th>\n      <td>[101708039]</td>\n      <td>[]</td>\n    </tr>\n    <tr>\n      <th>809947174</th>\n      <td>[2258496929]</td>\n      <td>[]</td>\n    </tr>\n    <tr>\n      <th>101708039</th>\n      <td>[101708031]</td>\n      <td>[]</td>\n    </tr>\n    <tr>\n      <th>308072626</th>\n      <td>[308807800]</td>\n      <td>[]</td>\n    </tr>\n    <tr>\n      <th>308807800</th>\n      <td>[308072626]</td>\n      <td>[]</td>\n    </tr>\n  </tbody>\n</table>\n</div>"
     },
     "execution_count": 27,
     "metadata": {},
     "output_type": "execute_result"
    }
   ],
   "source": [
    "# find difference\n",
    "print(\"Self = H3, Other = Old Strategy\")\n",
    "df[\"neighbours\"].compare(df_old[\"neighbours\"])"
   ],
   "metadata": {
    "collapsed": false,
    "pycharm": {
     "name": "#%%\n"
    }
   }
  }
 ],
 "metadata": {
  "kernelspec": {
   "display_name": "Python 3",
   "language": "python",
   "name": "python3"
  },
  "language_info": {
   "codemirror_mode": {
    "name": "ipython",
    "version": 2
   },
   "file_extension": ".py",
   "mimetype": "text/x-python",
   "name": "python",
   "nbconvert_exporter": "python",
   "pygments_lexer": "ipython2",
   "version": "2.7.6"
  }
 },
 "nbformat": 4,
 "nbformat_minor": 0
}