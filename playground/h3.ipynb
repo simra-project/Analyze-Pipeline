{
 "cells": [
  {
   "cell_type": "markdown",
   "metadata": {
    "collapsed": true,
    "pycharm": {
     "name": "#%% md\n"
    }
   },
   "source": [
    "# Evaluates the feasibility of using the H3 library for finding neighbors"
   ]
  },
  {
   "cell_type": "code",
   "execution_count": 1,
   "outputs": [],
   "source": [
    "import pandas as pd\n",
    "from shapely import wkt\n",
    "import h3\n",
    "from tqdm import tqdm\n",
    "\n",
    "junctions_csv = \"junctionsdf_stuttgart.csv\"\n",
    "h3_resolution = 8"
   ],
   "metadata": {
    "collapsed": false,
    "pycharm": {
     "name": "#%%\n"
    }
   }
  },
  {
   "cell_type": "code",
   "execution_count": 2,
   "outputs": [],
   "source": [
    "# Below copied from clusterJcts.py:\n",
    "\n",
    "\n",
    "#*******************************************************************************************************************\n",
    "# (1) Define functionality for determining a junction's neighbours\n",
    "\n",
    "# a) Check if the overlap of two junction polygons is above a specified threshold - could be parameterized as well,\n",
    "#    of course (didn't seem necessary so far, but might be done in the future.)\n",
    "\n",
    "def largeIntersection(poly1, poly2):\n",
    "    if not (poly1.intersects(poly2)):\n",
    "        return False\n",
    "    elif (((poly1.intersection(poly2).area/poly1.area)*100) > 8):\n",
    "        return True\n",
    "    elif (((poly1.intersection(poly2).area/poly2.area)*100) > 8):\n",
    "        return True\n",
    "\n",
    "# c) Check if two junctions share a square (which means they should end up in the same cluster)\n",
    "def sharedSquare(lst1, lst2):\n",
    "    lst3 = [value for value in lst1 if value in lst2]\n",
    "    if lst3 != []:\n",
    "        for elem in lst3:\n",
    "            if 'platz' in elem or 'Platz' in elem:\n",
    "                return True\n",
    "    return False"
   ],
   "metadata": {
    "collapsed": false,
    "pycharm": {
     "name": "#%%\n"
    }
   }
  },
  {
   "cell_type": "code",
   "execution_count": 3,
   "outputs": [
    {
     "data": {
      "text/plain": "                 lat       lon                                 highwayids  \\\nid                                                                          \n173097876  48.520746  8.775702           [36731756, 372332684, 426974536]   \n426938252  48.522502  8.777334                       [27120149, 36731756]   \n173096469  48.532423  8.775203             [16743795, 16743802, 23577078]   \n173096563  48.531917  8.773936             [16743802, 26934398, 16743810]   \n281413533  48.529614  8.774486  [25799537, 27119682, 158188075, 16743810]   \n\n                                                highwaynames  \\\nid                                                             \n173097876                     ['K 6940', 'L 1361', 'L 1361']   \n426938252                               ['K 1072', 'K 6940']   \n173096469  ['Brühlstraße', 'Brühlstraße', 'Schlossgartens...   \n173096563   ['Brühlstraße', 'Vollmaringer Straße', 'K 1072']   \n281413533  ['Goethestraße', 'In der Röte', 'Baisinger Str...   \n\n                                                highwaytypes  \\\nid                                                             \n173097876             ['tertiary', 'secondary', 'secondary']   \n426938252                           ['tertiary', 'tertiary']   \n173096469               ['tertiary', 'tertiary', 'tertiary']   \n173096563            ['tertiary', 'residential', 'tertiary']   \n281413533  ['residential', 'residential', 'tertiary', 'te...   \n\n                                           highwaylanes  \\\nid                                                        \n173097876             ['unknown', 'unknown', 'unknown']   \n426938252                        ['unknown', 'unknown']   \n173096469             ['unknown', 'unknown', 'unknown']   \n173096563             ['unknown', 'unknown', 'unknown']   \n281413533  ['unknown', 'unknown', 'unknown', 'unknown']   \n\n                                         highwaylanesBw  \\\nid                                                        \n173097876             ['unknown', 'unknown', 'unknown']   \n426938252                        ['unknown', 'unknown']   \n173096469             ['unknown', 'unknown', 'unknown']   \n173096563             ['unknown', 'unknown', 'unknown']   \n281413533  ['unknown', 'unknown', 'unknown', 'unknown']   \n\n                                               poly_geometry  \\\nid                                                             \n173097876  POLYGON ((48.52090537488439 8.775698510692514,...   \n426938252  POLYGON ((48.52265266750056 8.777330337629358,...   \n173096469  POLYGON ((48.53257366679242 8.775198930130973,...   \n173096563  POLYGON ((48.53207222041966 8.773932315071427,...   \n281413533  POLYGON ((48.52977149741602 8.774481761402312,...   \n\n                                          poly_vertices_lats  \\\nid                                                             \n173097876  array('d', [48.52090537488439, 48.520743351014...   \n426938252  array('d', [48.52265266750056, 48.522499905509...   \n173096469  array('d', [48.532573666792416, 48.53242090109...   \n173096563  array('d', [48.53207222041966, 48.531914822815...   \n281413533  array('d', [48.52977149741602, 48.529611786151...   \n\n                                          poly_vertices_lons  \nid                                                            \n173097876  array('d', [8.775698510692514, 8.7754626614868...  \n426938252  array('d', [8.777330337629358, 8.7771079528511...  \n173096469  array('d', [8.775198930130973, 8.7749765082359...  \n173096563  array('d', [8.773932315071427, 8.7737031593739...  \n281413533  array('d', [8.774481761402312, 8.7742492446035...  ",
      "text/html": "<div>\n<style scoped>\n    .dataframe tbody tr th:only-of-type {\n        vertical-align: middle;\n    }\n\n    .dataframe tbody tr th {\n        vertical-align: top;\n    }\n\n    .dataframe thead th {\n        text-align: right;\n    }\n</style>\n<table border=\"1\" class=\"dataframe\">\n  <thead>\n    <tr style=\"text-align: right;\">\n      <th></th>\n      <th>lat</th>\n      <th>lon</th>\n      <th>highwayids</th>\n      <th>highwaynames</th>\n      <th>highwaytypes</th>\n      <th>highwaylanes</th>\n      <th>highwaylanesBw</th>\n      <th>poly_geometry</th>\n      <th>poly_vertices_lats</th>\n      <th>poly_vertices_lons</th>\n    </tr>\n    <tr>\n      <th>id</th>\n      <th></th>\n      <th></th>\n      <th></th>\n      <th></th>\n      <th></th>\n      <th></th>\n      <th></th>\n      <th></th>\n      <th></th>\n      <th></th>\n    </tr>\n  </thead>\n  <tbody>\n    <tr>\n      <th>173097876</th>\n      <td>48.520746</td>\n      <td>8.775702</td>\n      <td>[36731756, 372332684, 426974536]</td>\n      <td>['K 6940', 'L 1361', 'L 1361']</td>\n      <td>['tertiary', 'secondary', 'secondary']</td>\n      <td>['unknown', 'unknown', 'unknown']</td>\n      <td>['unknown', 'unknown', 'unknown']</td>\n      <td>POLYGON ((48.52090537488439 8.775698510692514,...</td>\n      <td>array('d', [48.52090537488439, 48.520743351014...</td>\n      <td>array('d', [8.775698510692514, 8.7754626614868...</td>\n    </tr>\n    <tr>\n      <th>426938252</th>\n      <td>48.522502</td>\n      <td>8.777334</td>\n      <td>[27120149, 36731756]</td>\n      <td>['K 1072', 'K 6940']</td>\n      <td>['tertiary', 'tertiary']</td>\n      <td>['unknown', 'unknown']</td>\n      <td>['unknown', 'unknown']</td>\n      <td>POLYGON ((48.52265266750056 8.777330337629358,...</td>\n      <td>array('d', [48.52265266750056, 48.522499905509...</td>\n      <td>array('d', [8.777330337629358, 8.7771079528511...</td>\n    </tr>\n    <tr>\n      <th>173096469</th>\n      <td>48.532423</td>\n      <td>8.775203</td>\n      <td>[16743795, 16743802, 23577078]</td>\n      <td>['Brühlstraße', 'Brühlstraße', 'Schlossgartens...</td>\n      <td>['tertiary', 'tertiary', 'tertiary']</td>\n      <td>['unknown', 'unknown', 'unknown']</td>\n      <td>['unknown', 'unknown', 'unknown']</td>\n      <td>POLYGON ((48.53257366679242 8.775198930130973,...</td>\n      <td>array('d', [48.532573666792416, 48.53242090109...</td>\n      <td>array('d', [8.775198930130973, 8.7749765082359...</td>\n    </tr>\n    <tr>\n      <th>173096563</th>\n      <td>48.531917</td>\n      <td>8.773936</td>\n      <td>[16743802, 26934398, 16743810]</td>\n      <td>['Brühlstraße', 'Vollmaringer Straße', 'K 1072']</td>\n      <td>['tertiary', 'residential', 'tertiary']</td>\n      <td>['unknown', 'unknown', 'unknown']</td>\n      <td>['unknown', 'unknown', 'unknown']</td>\n      <td>POLYGON ((48.53207222041966 8.773932315071427,...</td>\n      <td>array('d', [48.53207222041966, 48.531914822815...</td>\n      <td>array('d', [8.773932315071427, 8.7737031593739...</td>\n    </tr>\n    <tr>\n      <th>281413533</th>\n      <td>48.529614</td>\n      <td>8.774486</td>\n      <td>[25799537, 27119682, 158188075, 16743810]</td>\n      <td>['Goethestraße', 'In der Röte', 'Baisinger Str...</td>\n      <td>['residential', 'residential', 'tertiary', 'te...</td>\n      <td>['unknown', 'unknown', 'unknown', 'unknown']</td>\n      <td>['unknown', 'unknown', 'unknown', 'unknown']</td>\n      <td>POLYGON ((48.52977149741602 8.774481761402312,...</td>\n      <td>array('d', [48.52977149741602, 48.529611786151...</td>\n      <td>array('d', [8.774481761402312, 8.7742492446035...</td>\n    </tr>\n  </tbody>\n</table>\n</div>"
     },
     "execution_count": 3,
     "metadata": {},
     "output_type": "execute_result"
    }
   ],
   "source": [
    "# read in csv file that comprises the junctionsdf available also in clussterJcts.py\n",
    "\n",
    "df = pd.read_csv(junctions_csv, index_col=\"id\")\n",
    "\n",
    "# parse string poly\n",
    "df['poly_geometry'] = df['poly_geometry'].apply(wkt.loads)\n",
    "\n",
    "# ignore invalid polys as done in clusterJcts.py\n",
    "df['poly_geometry'] = df['poly_geometry'].map(lambda poly: poly if poly.is_valid else poly.buffer(0))\n",
    "\n",
    "df.head()"
   ],
   "metadata": {
    "collapsed": false,
    "pycharm": {
     "name": "#%%\n"
    }
   }
  },
  {
   "cell_type": "code",
   "execution_count": 4,
   "outputs": [
    {
     "name": "stdout",
     "output_type": "stream",
     "text": [
      "48.520746/8.7757024 has the h3 string 881f81b1e1fffff in the cell 15\n",
      "The h3 ring comprises {'881f81b1e3fffff', '881f81b1e5fffff', '881f81b1ebfffff', '881f81b1e7fffff', '881f81b1e9fffff', '881f81b1edfffff'}\n"
     ]
    }
   ],
   "source": [
    "# this is just code to experiment with h3\n",
    "\n",
    "# select row by index\n",
    "row = df.loc[173097876]\n",
    "\n",
    "# do some h3 operations on lat/lon of row\n",
    "h3_str = h3.geo_to_h3(row[\"lat\"], row[\"lon\"], h3_resolution)\n",
    "h3_cell = h3.h3_get_base_cell(h3_str)\n",
    "h3_ring = h3.hex_ring(h3_str, 1)\n",
    "\n",
    "print(\"{0!s}/{1!s} has the h3 string {2!s} in the cell {3!s}\".format(row[\"lat\"], row[\"lon\"], h3_str, h3_cell))\n",
    "print(\"The h3 ring comprises {0!s}\".format(h3_ring))"
   ],
   "metadata": {
    "collapsed": false,
    "pycharm": {
     "name": "#%%\n"
    }
   }
  },
  {
   "cell_type": "markdown",
   "source": [
    "## Below starts the actual code that does the neighbour search with S3"
   ],
   "metadata": {
    "collapsed": false,
    "pycharm": {
     "name": "#%% md\n"
    }
   }
  },
  {
   "cell_type": "code",
   "execution_count": 5,
   "outputs": [
    {
     "data": {
      "text/plain": "count               66448\nunique               4054\ntop       881f8c9001fffff\nfreq                  115\nName: h3, dtype: object"
     },
     "execution_count": 5,
     "metadata": {},
     "output_type": "execute_result"
    }
   ],
   "source": [
    "# add an h3 column\n",
    "df[\"h3\"] = df.apply (lambda row: h3.geo_to_h3(row[\"lat\"], row[\"lon\"], h3_resolution), axis=1)\n",
    "df[\"h3\"].describe()"
   ],
   "metadata": {
    "collapsed": false,
    "pycharm": {
     "name": "#%%\n"
    }
   }
  },
  {
   "cell_type": "code",
   "execution_count": 6,
   "outputs": [
    {
     "name": "stderr",
     "output_type": "stream",
     "text": [
      "Computing Neighbours: 100%|██████████| 66448/66448 [10:31<00:00, 105.19it/s]\n"
     ]
    },
    {
     "name": "stdout",
     "output_type": "stream",
     "text": [
      "Checked on average 1621 entires for neighbours\n"
     ]
    }
   ],
   "source": [
    "ops_number = df.index.size\n",
    "\n",
    "bar = tqdm(total=ops_number, desc=\"Computing Neighbours\")\n",
    "df_h3_only = pd.DataFrame(df.h3.tolist(), index=df.index)\n",
    "neighbours_list = []\n",
    "\n",
    "checked = 0\n",
    "\n",
    "for id in df.index:\n",
    "\n",
    "    row = df.loc[id]\n",
    "    h3_ring = h3.hex_ring(row[\"h3\"], 1)\n",
    "    h3_ring.add(row[\"h3\"]) # add own cell to ring\n",
    "\n",
    "    # From https://stackoverflow.com/questions/53342715/pandas-dataframe-select-rows-where-a-list-column-contains-any-of-a-list-of-strin\n",
    "    rows_to_check = df[df_h3_only.isin(h3_ring).any(1).values]\n",
    "    checked += rows_to_check.size\n",
    "\n",
    "    neighbour_rows = rows_to_check[rows_to_check.apply(lambda apply_row: (largeIntersection(apply_row['poly_geometry'],row[\"poly_geometry\"]) or sharedSquare(apply_row['highwaynames'], row['highwaynames'])), axis=1)]\n",
    "\n",
    "    # Grab indices of those rows that passed the filter\n",
    "    neighbours = neighbour_rows.index.tolist()\n",
    "    # remove use from the neighbourslist\n",
    "    neighbours.remove(id)\n",
    "\n",
    "    neighbours_list.append(neighbours)\n",
    "    bar.update(1)\n",
    "\n",
    "print(\"Checked on average {0!s} entires for neighbours\".format(int(checked / df.index.size)))\n",
    "\n",
    "# remove row number\n",
    "df['neighbours'] = neighbours_list\n",
    "bar.close()"
   ],
   "metadata": {
    "collapsed": false,
    "pycharm": {
     "name": "#%%\n"
    }
   }
  },
  {
   "cell_type": "code",
   "source": [
    "df['neighbours'].head(50)"
   ],
   "metadata": {
    "collapsed": false,
    "pycharm": {
     "name": "#%%\n"
    }
   },
   "execution_count": 12,
   "outputs": [
    {
     "data": {
      "text/plain": "id\n173097876                         []\n426938252                         []\n173096469                         []\n173096563                [295137117]\n281413533                         []\n281413535                         []\n295133819                         []\n295137117     [173096563, 297554382]\n297542129                         []\n297542135                [297550504]\n297545389                         []\n297545450                         []\n297545470                         []\n297550504                [297542135]\n297550517                         []\n297554378                         []\n297554382                [295137117]\n281413536                         []\n281413538                         []\n281413547                         []\n281413550                         []\n286463745                         []\n286463767                [295121658]\n290794553                         []\n295121649                [295123713]\n295121657                         []\n295121658                [286463767]\n295123533                         []\n295123713                [295121649]\n295130362                         []\n295130364                         []\n295130386                         []\n295130398                         []\n295132383                         []\n295132389                         []\n295132393                         []\n295132415                         []\n295133777                         []\n295133790                         []\n295133810                         []\n295137129                         []\n295139347                         []\n122625571                [122626898]\n122626898                [122625571]\n255319632                         []\n255319633                         []\n283685105                         []\n3596572423                        []\n3771835812                        []\n130254256                         []\nName: neighbours, dtype: object"
     },
     "execution_count": 12,
     "metadata": {},
     "output_type": "execute_result"
    }
   ]
  }
 ],
 "metadata": {
  "kernelspec": {
   "display_name": "Python 3",
   "language": "python",
   "name": "python3"
  },
  "language_info": {
   "codemirror_mode": {
    "name": "ipython",
    "version": 2
   },
   "file_extension": ".py",
   "mimetype": "text/x-python",
   "name": "python",
   "nbconvert_exporter": "python",
   "pygments_lexer": "ipython2",
   "version": "2.7.6"
  }
 },
 "nbformat": 4,
 "nbformat_minor": 0
}